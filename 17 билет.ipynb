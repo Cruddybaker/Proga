{
 "cells": [
  {
   "cell_type": "markdown",
   "id": "a2683475",
   "metadata": {},
   "source": [
    "**ЭКЗАМЕНАЦИОННЫЙ БИЛЕТ № 17**\n",
    "\n",
    "1 вопрос (20 баллов)  \n",
    "Логические операторы OR, AND. Условные выражения If … Elif … Else. Имеются целочисленные переменные A, B, C, D. Напишите функцию, выводящую на печать строку \"correct\", если одновременно выполняются условия: 1) A больше B, 2) C равно D и \"not correct\", есл  \n",
    "Условные операторы при отсутствии пустых значений возвращают либо TRUE (ИСТИНА), либо FALSE (ЛОЖЬ). Если же в столбце присутствуют пустые значения, то может быть возвращено и третье значение: UNKNOWN (НЕИЗВЕСТНО).\n",
    "Пустые значения могут оказывать влияние на использование логических операторов NOT, AND и OR.\n",
    "Оператор AND  \n",
    "•\tЕсли результат двух условий, объединенных оператором AND, известен, то применяются правила булевой логики, то есть при обоих утверждениях TRUE составное утверждение также будет TRUE. Если же хотя бы одно из двух утверждений будет FALSE, то составное утверждение будет FALSE  \n",
    "•\tЕсли результат одного из утверждений неизвестен, а другой оценивается как TRUE, то состояние неизвестного утверждения является определяющим, и, следовательно, итоговый результат также неизвестен.  \n",
    "•\tЕсли результат одного из утверждений неизвестен, а другой оценивается как FALSE, итоговый результат будет FALSE.\n",
    "•\tЕсли результат обоих утверждений неизвестен, то результат также остается неизвестным.  \n",
    "\n",
    "Оператор OR   \n",
    "•\tЕсли результат двух условий, объединенных оператором OR, известен, то применяются правила булевой логики, а именно: если хотя бы одно из двух утверждений соответствует TRUE, то и составное утверждение будет TRUE, если оба утверждения оцениваются как FALSE, то составное утверждение будет FALSE.  \n",
    "•\tЕсли результат одного из утверждений неизвестен, а другой оценивается как TRUE, итоговый результат будет TRUE.  \n",
    "•\tЕсли результат одного из утверждений неизвестен, а другой оценивается как FALSE, то состояние неизвестного утверждения имеет определяющее значение. Следовательно, итоговый результат также неизвестен.  \n",
    "•\tЕсли результат обоих утверждений неизвестен, то результат также остается неизвестным.  \n",
    "\n",
    "\n",
    "If  \n",
    "Обязательная часть инструкции, должна предшествовать другим частям.   \n",
    "Эта часть проверяет выражение справа от себя на истинность.  \n",
    "If a:  \n",
    "print('a — истина')  \n",
    "Elif  \n",
    "Необязательная часть инструкции. Должна следовать за if, либо другой elif.  \n",
    "Позволяет указать альтернативное условие, которое требуется проверить.  \n",
    "Данное ключевое слово в других языках используется в избыточно длинной форме else if.   \n",
    "\n",
    "Else  \n",
    "Необязательная заключительная часть инструкции. Должна следовать за if, либо elif.  \n",
    "Позволяет указать ветвь исполнения, которая должна быть активирована, если не подошли условия, указанные в предшествующих if и elif.  \n",
    "\n",
    "a=int(input)  \n",
    "b=int(input)  \n",
    "c=int(input)  \n",
    "d=int(input)  \n",
    "IF a>b AND c==d:  \n",
    "    Print(“correct”)  \n",
    "ELSE:  \n",
    "   Print(“not correct”)  \n"
   ]
  },
  {
   "cell_type": "markdown",
   "id": "0f9309b7",
   "metadata": {},
   "source": [
    "**2 вопрос**  \n",
    "С помощью библиотеки SQLAlchemy создайте объекты таблиц базы данных Chinook. В таблице Invoice содержится информация о заказах, в таблице Customer - о клиентах. Составьте запрос, показывающий, какова суммарная стоимость произведений, заказанных клиентами из Франции (France).\n"
   ]
  },
  {
   "cell_type": "code",
   "execution_count": 1,
   "id": "64c501c0",
   "metadata": {},
   "outputs": [],
   "source": [
    "from sqlalchemy import *\n",
    "from sqlalchemy.sql import *\n",
    "\n",
    "import pandas as pd\n",
    "pd.set_option('display.max_rows', 1000)\n",
    "from matplotlib import pyplot as plt\n",
    "\n",
    "engine = create_engine('sqlite:///Data/Chinook_Sqlite.sqlite')\n",
    "metadata = MetaData()\n",
    "metadata.reflect(bind=engine)\n",
    "conn=engine.connect()\n",
    "\n",
    "Album=Table(\"Album\", metadata, autoload=True, autoload_with=\"engine\")\n",
    "Artist=Table(\"Artist\", metadata, autoload=True, autoload_with=\"engine\")\n",
    "Customer=Table(\"Customer\", metadata, autoload=True, autoload_with=\"engine\")\n",
    "Employee=Table(\"Employee\", metadata, autoload=True, autoload_with=\"engine\")\n",
    "Track=Table(\"Track\", metadata, autoload=True, autoload_with=\"engine\")\n",
    "Genre=Table(\"Genre\", metadata, autoload=True, autoload_with=\"engine\")\n",
    "Invoice=Table(\"Invoice\", metadata, autoload=True, autoload_with=\"engine\")\n",
    "InvoiceLine=Table(\"InvoiceLine\", metadata, autoload=True, autoload_with=\"engine\")\n",
    "Playlist=Table(\"Playlist\", metadata, autoload=True, autoload_with=\"engine\")\n",
    "PlaylistTrack=Table(\"PlaylistTrack\", metadata, autoload=True, autoload_with=\"engine\")"
   ]
  },
  {
   "cell_type": "code",
   "execution_count": 4,
   "id": "c294e051",
   "metadata": {},
   "outputs": [
    {
     "data": {
      "text/plain": [
       "[(Decimal('195.10'),)]"
      ]
     },
     "execution_count": 4,
     "metadata": {},
     "output_type": "execute_result"
    }
   ],
   "source": [
    "s=select([func.sum(Invoice.c.Total)]).group_by(Customer.c.Country) \n",
    "s=s.where(Customer.c.CustomerId==Invoice.c.CustomerId) \n",
    "s=s.where(Customer.c.Country==\"France\") \n",
    "result=conn.execute(s).fetchall() \n",
    "result\n"
   ]
  },
  {
   "cell_type": "markdown",
   "id": "114504cb",
   "metadata": {},
   "source": [
    "**3 вопрос**\n",
    "Записи набора данных imdb.csv содержат информацию о фильмах. Атрибут Year содержит год конкретного фильма. Подсчитатйте число фильмов в каждом году.\n"
   ]
  },
  {
   "cell_type": "code",
   "execution_count": 3,
   "id": "315591f7",
   "metadata": {},
   "outputs": [
    {
     "data": {
      "text/html": [
       "<div>\n",
       "<style scoped>\n",
       "    .dataframe tbody tr th:only-of-type {\n",
       "        vertical-align: middle;\n",
       "    }\n",
       "\n",
       "    .dataframe tbody tr th {\n",
       "        vertical-align: top;\n",
       "    }\n",
       "\n",
       "    .dataframe thead th {\n",
       "        text-align: right;\n",
       "    }\n",
       "</style>\n",
       "<table border=\"1\" class=\"dataframe\">\n",
       "  <thead>\n",
       "    <tr style=\"text-align: right;\">\n",
       "      <th></th>\n",
       "      <th>Title</th>\n",
       "    </tr>\n",
       "    <tr>\n",
       "      <th>Year</th>\n",
       "      <th></th>\n",
       "    </tr>\n",
       "  </thead>\n",
       "  <tbody>\n",
       "    <tr>\n",
       "      <th>2006</th>\n",
       "      <td>44</td>\n",
       "    </tr>\n",
       "    <tr>\n",
       "      <th>2007</th>\n",
       "      <td>53</td>\n",
       "    </tr>\n",
       "    <tr>\n",
       "      <th>2008</th>\n",
       "      <td>52</td>\n",
       "    </tr>\n",
       "    <tr>\n",
       "      <th>2009</th>\n",
       "      <td>51</td>\n",
       "    </tr>\n",
       "    <tr>\n",
       "      <th>2010</th>\n",
       "      <td>60</td>\n",
       "    </tr>\n",
       "    <tr>\n",
       "      <th>2011</th>\n",
       "      <td>63</td>\n",
       "    </tr>\n",
       "    <tr>\n",
       "      <th>2012</th>\n",
       "      <td>64</td>\n",
       "    </tr>\n",
       "    <tr>\n",
       "      <th>2013</th>\n",
       "      <td>91</td>\n",
       "    </tr>\n",
       "    <tr>\n",
       "      <th>2014</th>\n",
       "      <td>98</td>\n",
       "    </tr>\n",
       "    <tr>\n",
       "      <th>2015</th>\n",
       "      <td>127</td>\n",
       "    </tr>\n",
       "    <tr>\n",
       "      <th>2016</th>\n",
       "      <td>297</td>\n",
       "    </tr>\n",
       "  </tbody>\n",
       "</table>\n",
       "</div>"
      ],
      "text/plain": [
       "      Title\n",
       "Year       \n",
       "2006     44\n",
       "2007     53\n",
       "2008     52\n",
       "2009     51\n",
       "2010     60\n",
       "2011     63\n",
       "2012     64\n",
       "2013     91\n",
       "2014     98\n",
       "2015    127\n",
       "2016    297"
      ]
     },
     "execution_count": 3,
     "metadata": {},
     "output_type": "execute_result"
    }
   ],
   "source": [
    "am=pd.read_csv('./Data/imdb.csv')\n",
    "am.groupby('Year').count()[['Title']] \n"
   ]
  }
 ],
 "metadata": {
  "kernelspec": {
   "display_name": "Python 3",
   "language": "python",
   "name": "python3"
  },
  "language_info": {
   "codemirror_mode": {
    "name": "ipython",
    "version": 3
   },
   "file_extension": ".py",
   "mimetype": "text/x-python",
   "name": "python",
   "nbconvert_exporter": "python",
   "pygments_lexer": "ipython3",
   "version": "3.8.8"
  }
 },
 "nbformat": 4,
 "nbformat_minor": 5
}
