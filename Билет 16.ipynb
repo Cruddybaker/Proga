{
 "cells": [
  {
   "cell_type": "code",
   "execution_count": 1,
   "id": "f5142948",
   "metadata": {},
   "outputs": [
    {
     "name": "stdout",
     "output_type": "stream",
     "text": [
      "dict_keys(['Album', 'Artist', 'Customer', 'Employee', 'Genre', 'Invoice', 'InvoiceLine', 'Track', 'MediaType', 'Playlist', 'PlaylistTrack'])\n"
     ]
    }
   ],
   "source": [
    "from sqlalchemy import *\n",
    "from sqlalchemy.sql import *\n",
    "\n",
    "import pandas\n",
    "from matplotlib import pyplot as plt\n",
    "\n",
    "engine = create_engine('sqlite:///Data/Chinook_Sqlite.sqlite')\n",
    "metadata = MetaData()\n",
    "metadata.reflect(bind=engine)\n",
    "conn=engine.connect()\n",
    "\n",
    "Album=Table(\"Album\", metadata, autoload=True, autoload_with=\"engine\")\n",
    "MediaType=Table(\"MediaType\", metadata, autoload=True, autoload_with=\"engine\")\n",
    "Artist=Table(\"Artist\", metadata, autoload=True, autoload_with=\"engine\")\n",
    "Customer=Table(\"Customer\", metadata, autoload=True, autoload_with=\"engine\")\n",
    "Employee=Table(\"Employee\", metadata, autoload=True, autoload_with=\"engine\")\n",
    "Track=Table(\"Track\", metadata, autoload=True, autoload_with=\"engine\")\n",
    "Genre=Table(\"Genre\", metadata, autoload=True, autoload_with=\"engine\")\n",
    "Invoice=Table(\"Invoice\", metadata, autoload=True, autoload_with=\"engine\")\n",
    "InvoiceLine=Table(\"InvoiceLine\", metadata, autoload=True, autoload_with=\"engine\")\n",
    "Playlist=Table(\"Playlist\", metadata, autoload=True, autoload_with=\"engine\")\n",
    "PlaylistTrack=Table(\"PlaylistTrack\", metadata, autoload=True, autoload_with=\"engine\")\n",
    "A = Album.alias('A')\n",
    "M = MediaType.alias('M')\n",
    "Ar = Artist.alias('Ar')\n",
    "C = Customer.alias('C')\n",
    "E = Employee.alias('E')\n",
    "T = Track.alias('T')\n",
    "G = Genre.alias('G')\n",
    "I = Invoice.alias('I')\n",
    "IL = InvoiceLine.alias('IL')\n",
    "P = Playlist.alias('P')\n",
    "PT = PlaylistTrack.alias('PT')\n",
    "\n",
    "print(metadata.tables.keys())\n",
    "\n",
    "import pandas as pd\n",
    "df=pd.read_csv('./Data/imdb.csv')"
   ]
  },
  {
   "cell_type": "markdown",
   "id": "5f7042de",
   "metadata": {},
   "source": [
    "#### №1. Методы работы со словарями. Итерация по элементам словаря. Методы keys(), values(), items(). Составьте словарь, содержащий в качестве ключей дни недели (Пн, Вт, Ср), а значениями температуру воздуха (20,18,17). Составьте цикл по элементам словаря и на каж ??? смирнов обкурился"
   ]
  },
  {
   "cell_type": "markdown",
   "id": "02b46f51",
   "metadata": {},
   "source": [
    "**Словари в Python** - неупорядоченные коллекции произвольных объектов с доступом по ключу. Их иногда ещё называют ассоциативными массивами или хеш-таблицами.  \n",
    "\n",
    "Создание словарей:"
   ]
  },
  {
   "cell_type": "code",
   "execution_count": 3,
   "id": "85e896cc",
   "metadata": {},
   "outputs": [
    {
     "name": "stdout",
     "output_type": "stream",
     "text": [
      "{'dict': 1, 'dictionary': 2}\n",
      "{'short': 'dict', 'long': 'dictionary'}\n",
      "{1: 1, 2: 4}\n",
      "{'a': 20, 'b': 20}\n",
      "{0: 0, 1: 1, 2: 4, 3: 9, 4: 16, 5: 25, 6: 36}\n"
     ]
    }
   ],
   "source": [
    "d = {'dict': 1, 'dictionary': 2}\n",
    "print(d)\n",
    "d = dict(short='dict', long='dictionary')\n",
    "print(d)\n",
    "d = dict([(1, 1), (2, 4)])\n",
    "print(d)\n",
    "d = dict.fromkeys(['a', 'b'], 20)\n",
    "print(d)\n",
    "d = {a: a ** 2 for a in range(7)}\n",
    "print(d)"
   ]
  },
  {
   "cell_type": "markdown",
   "id": "40fa437a",
   "metadata": {},
   "source": [
    "**Методы**  \n",
    "dict.clear() - очищает словарь.\n",
    "\n",
    "dict.copy() - возвращает копию словаря.\n",
    "\n",
    "classmethod dict.fromkeys(seq[, value]) - создает словарь с ключами из seq и значением value (по умолчанию None).\n",
    "\n",
    "dict.get(key[, default]) - возвращает значение ключа, но если его нет, не бросает исключение, а возвращает default (по умолчанию None).\n",
    "\n",
    "dict.items() - возвращает пары (ключ, значение).\n",
    "\n",
    "dict.keys() - возвращает ключи в словаре.\n",
    "\n",
    "dict.pop(key[, default]) - удаляет ключ и возвращает значение. Если ключа нет, возвращает default (по умолчанию бросает исключение).\n",
    "\n",
    "dict.popitem() - удаляет и возвращает пару (ключ, значение). Если словарь пуст, бросает исключение KeyError. Помните, что словари неупорядочены.\n",
    "\n",
    "dict.setdefault(key[, default]) - возвращает значение ключа, но если его нет, не бросает исключение, а создает ключ со значением default (по умолчанию None).\n",
    "\n",
    "dict.update([other]) - обновляет словарь, добавляя пары (ключ, значение) из other. Существующие ключи перезаписываются. Возвращает None (не новый словарь!).\n",
    "\n",
    "dict.values() - возвращает значения в словаре.\n",
    "\n",
    "**Итерации:**"
   ]
  },
  {
   "cell_type": "code",
   "execution_count": 5,
   "id": "b3cf70f5",
   "metadata": {},
   "outputs": [
    {
     "name": "stdout",
     "output_type": "stream",
     "text": [
      "20\n",
      "18\n",
      "17\n",
      "Температура примерно 20 градусов\n",
      "Температура примерно 18 градусов\n",
      "Температура примерно 17 градусов\n",
      "Температура в Пн составила 20 градусов\n",
      "Температура в Вт составила 18 градусов\n",
      "Температура в Ср составила 17 градусов\n"
     ]
    }
   ],
   "source": [
    "some_data = {'Пн': 20, 'Вт': 18, 'Ср':17}\n",
    "for i in some_data.keys():\n",
    "    print(some_data[i])\n",
    "for i in some_data.values():\n",
    "    print(f'Температура примерно {i} градусов')\n",
    "for i, j in some_data.items():\n",
    "    print(f'Температура в {i} составила {j} градусов')"
   ]
  },
  {
   "cell_type": "markdown",
   "id": "cff800c7",
   "metadata": {},
   "source": [
    "#### №2. С помощью библиотеки SQLAlchemy создайте объекты таблиц базы данных Chinook. В таблице Track содержится информация о звуковых дорожках (произведениях), в таблицах Invoice и InvoiceLine информация о покупках, в таблице Customer - о клиентах. Составьте запрос, показывающий названия произведений, заказанных клиентами из Индии. Отсортируйте список названий в алфавитном порядке. Результат не должен содержать повторов."
   ]
  },
  {
   "cell_type": "code",
   "execution_count": 6,
   "id": "fdfb3ab2",
   "metadata": {},
   "outputs": [
    {
     "data": {
      "text/plain": [
       "[('(White Man) In Hammersmith Palais',),\n",
       " ('Acelerou',),\n",
       " ('Action',),\n",
       " ('Azul',),\n",
       " (\"Baltar's Escape\",),\n",
       " ('Bankrobber',),\n",
       " ('Before You Accuse Me',),\n",
       " ('Black Night',),\n",
       " ('Black Satin',),\n",
       " ('Blue Rythm Fantasy',),\n",
       " ('Bop Boogie',),\n",
       " ('Brave New World',),\n",
       " ('Breathe',),\n",
       " (\"Cascades : I'm Not Your Lover\",),\n",
       " ('Chaos-Control',),\n",
       " ('Chão De Estrelas',),\n",
       " ('Cigano',),\n",
       " ('Concerto No.2 in F Major, BWV1047, I. Allegro',),\n",
       " ('Concerto for Piano No. 2 in F Minor, Op. 21: II. Larghetto',),\n",
       " ('Cotton Fields',),\n",
       " ('Cursed Diamonds',),\n",
       " ('Dois Pra Lá, Dois Pra Cá',),\n",
       " (\"Don't Look Now\",),\n",
       " (\"Don't Look To The Eyes Of A Stranger\",),\n",
       " (\"Don't Take Your Love From Me\",),\n",
       " ('El Farol',),\n",
       " ('Esporrei Na Manivela',),\n",
       " ('Fall On Me',),\n",
       " ('Flash of The Blade',),\n",
       " ('Fora Da Ordem',),\n",
       " ('Gates Of Urizen',),\n",
       " ('Get Up Offa That Thing',),\n",
       " ('Groovus Interruptus',),\n",
       " ('Hard To Handle',),\n",
       " ('Hey America',),\n",
       " ('High Head Blues',),\n",
       " ('Hot Girl',),\n",
       " ('Houses Of The Holy',),\n",
       " ('Infeliz Natal',),\n",
       " (\"It's A Man's Man's Man's World\",),\n",
       " ('Jeru',),\n",
       " ('Lemon Drop',),\n",
       " ('Lick It Up',),\n",
       " ('Lightning Strikes Twice',),\n",
       " (\"Love Don't Mean a Thing\",),\n",
       " ('Love Of My Life',),\n",
       " ('Mangueira',),\n",
       " ('Maria Rosa',),\n",
       " ('Mellowship Slinky In B Major',),\n",
       " ('Night Train',),\n",
       " ('No Fundo Do Quintal Da Escola',),\n",
       " ('Overtime',),\n",
       " ('Pagan Baby',),\n",
       " ('Pictures Of Home',),\n",
       " ('Pour Some Sugar On Me',),\n",
       " ('Que Luz É Essa',),\n",
       " ('Rime of the Ancient Mariner',),\n",
       " ('Rock The Casbah',),\n",
       " ('She',),\n",
       " ('Shock Me',),\n",
       " ('Sign Of The Cross',),\n",
       " ('So Central Rain',),\n",
       " ('So What',),\n",
       " ('Stormbringer',),\n",
       " ('Texarkana',),\n",
       " ('The Cut Runs Deep',),\n",
       " ('The Power Of Equality',),\n",
       " ('The Trooper',),\n",
       " ('To Tame A Land',),\n",
       " ('True Believers',),\n",
       " ('Trupets Of Jericho',),\n",
       " ('Um Indio',),\n",
       " ('Um Love',),\n",
       " (\"Up An' Atom\",)]"
      ]
     },
     "execution_count": 6,
     "metadata": {},
     "output_type": "execute_result"
    }
   ],
   "source": [
    "s = select(distinct(T.c.Name)).where(and_(\n",
    "    T.c.TrackId == IL.c.TrackId,\n",
    "    I.c.InvoiceId == IL.c.InvoiceId,\n",
    "    I.c.CustomerId == C.c.CustomerId, \n",
    "    C.c.Country == 'India')).order_by(T.c.Name)\n",
    "result = conn.execute(s).fetchall()\n",
    "result"
   ]
  },
  {
   "cell_type": "markdown",
   "id": "1f3356e3",
   "metadata": {},
   "source": [
    "#### №3. Записи набора данных imdb.csv содержат информацию о фильмах. Атрибут Genre каждой записи содержит перечень жанров конкретного фильма. Постройте столбчатую диаграмму числа фильмов в жанре Animation, Family, Fantasy."
   ]
  },
  {
   "cell_type": "code",
   "execution_count": 7,
   "id": "c124b30e",
   "metadata": {},
   "outputs": [
    {
     "data": {
      "image/png": "[encoded data removed]",
      "text/plain": [
       "<Figure size 288x432 with 1 Axes>"
      ]
     },
     "metadata": {
      "needs_background": "light"
     },
     "output_type": "display_data"
    }
   ],
   "source": [
    "genres = ['Animation', 'Family', 'Fantasy']\n",
    "data = {i:len(df[df['Genre'].str.contains(i)]) for i in genres}\n",
    "\n",
    "fig, ax = plt.subplots(figsize = (4, 6))\n",
    "ax.bar(data.keys(), data.values())\n",
    "ax.grid()"
   ]
  }
 ],
 "metadata": {
  "kernelspec": {
   "display_name": "Python 3",
   "language": "python",
   "name": "python3"
  },
  "language_info": {
   "codemirror_mode": {
    "name": "ipython",
    "version": 3
   },
   "file_extension": ".py",
   "mimetype": "text/x-python",
   "name": "python",
   "nbconvert_exporter": "python",
   "pygments_lexer": "ipython3",
   "version": "3.8.8"
  }
 },
 "nbformat": 4,
 "nbformat_minor": 5
}
