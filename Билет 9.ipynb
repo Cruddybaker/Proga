{
 "cells": [
  {
   "cell_type": "code",
   "execution_count": 1,
   "id": "0d469b35",
   "metadata": {},
   "outputs": [],
   "source": [
    "from sqlalchemy import *\n",
    "from sqlalchemy.sql import *\n",
    "\n",
    "engine = create_engine('sqlite:///Data/Chinook_Sqlite.sqlite')\n",
    "metadata = MetaData()\n",
    "metadata.reflect(bind=engine)\n",
    "conn=engine.connect()\n",
    "\n",
    "InvoiceLine=Table(\"InvoiceLine\", metadata, autoload=True, autoload_with=\"engine\")\n",
    "MediaType=Table(\"MediaType\", metadata, autoload=True, autoload_with=\"engine\")\n",
    "Track=Table(\"Track\", metadata, autoload=True, autoload_with=\"engine\")\n",
    "Invoice=Table(\"Invoice\", metadata, autoload=True, autoload_with=\"engine\")\n",
    "Customer=Table(\"Customer\", metadata, autoload=True, autoload_with=\"engine\")\n",
    "\n",
    "import pandas as pd\n",
    "df=pd.read_csv('./Data/imdb.csv')"
   ]
  },
  {
   "cell_type": "markdown",
   "id": "13562507",
   "metadata": {},
   "source": [
    "### Способы отладки программы: оnладка с помощью print. Встроенный отладчик Python debugger.\n",
    "\n",
    "Отладка — этап разработки компьютерной программы, на котором обнаруживают, локализуют и устраняют ошибки.\n",
    "При помощи команды print() можно легко понять, была ли совершена ошибка. Когда мы используем print() мы желаем увидить результат, который нас удовлетворяет, а если результат не таков, следовательно была допущена ошибка. Но самая большая проблема в использовании print() — это необходимость вносить изменения в код и перезапускать приложение, чтобы увидеть изменения.\n",
    "\n",
    "pdb — это встроенный отладчик для Python, который, в отличие от print(), позволяет отлаживать программу в процессе её работы."
   ]
  },
  {
   "cell_type": "markdown",
   "id": "0db49c3a",
   "metadata": {},
   "source": [
    "### С помощью библиотеки SQLAlchemy создайте объекты таблиц базы данных Chinook. В таблице MediaType содержатся данные о типах файлов (файл MPEG, AAC и т.д.). В таблице InvoiceLine содержатся данные о покупках. Напишите запрос, показывающий, сколько звуковых дорожек куплено в формате \"MPEG audio file\"."
   ]
  },
  {
   "cell_type": "code",
   "execution_count": 2,
   "id": "461ec2de",
   "metadata": {},
   "outputs": [
    {
     "data": {
      "text/plain": [
       "[(1976,)]"
      ]
     },
     "execution_count": 2,
     "metadata": {},
     "output_type": "execute_result"
    }
   ],
   "source": [
    "MT = MediaType.alias('MT')\n",
    "IL = InvoiceLine.alias('IL')\n",
    "T = Track.alias('T')\n",
    "s = select(func.count(IL.c.UnitPrice)).where(and_(\n",
    "     MT.c.Name == 'MPEG audio file', \n",
    "     T.c.TrackId == IL.c.TrackId, \n",
    "     MT.c.MediaTypeId == T.c.MediaTypeId))\n",
    "\n",
    "result=conn.execute(s).fetchall()\n",
    "result"
   ]
  },
  {
   "cell_type": "markdown",
   "id": "bdb5c350",
   "metadata": {},
   "source": [
    "### Записи набора данных imdb.csv содержат информацию о фильмах. Атрибут Actors каждой записи содержит перечень актёров конкретного фильма. Атрибут Revenue (Millions) содержит значение дохода фильма. Найдите суммарный доход от фильмов, в которых снималя актёр"
   ]
  },
  {
   "cell_type": "code",
   "execution_count": 3,
   "id": "ccd4cf53",
   "metadata": {},
   "outputs": [
    {
     "data": {
      "text/plain": [
       "1400.8"
      ]
     },
     "execution_count": 3,
     "metadata": {},
     "output_type": "execute_result"
    }
   ],
   "source": [
    "# Преподователь не указал какой именно актер, поэтому беру Will Smith\n",
    "\n",
    "import pandas as pd\n",
    "df=pd.read_csv('./Data/imdb.csv')\n",
    "sum(df[df['Actors'].str.contains('Will Smith')]['Revenue (Millions)'])"
   ]
  }
 ],
 "metadata": {
  "kernelspec": {
   "display_name": "Python 3",
   "language": "python",
   "name": "python3"
  },
  "language_info": {
   "codemirror_mode": {
    "name": "ipython",
    "version": 3
   },
   "file_extension": ".py",
   "mimetype": "text/x-python",
   "name": "python",
   "nbconvert_exporter": "python",
   "pygments_lexer": "ipython3",
   "version": "3.8.8"
  }
 },
 "nbformat": 4,
 "nbformat_minor": 5
}
