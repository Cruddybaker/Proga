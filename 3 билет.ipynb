{
 "cells": [
  {
   "cell_type": "markdown",
   "id": "479ebb48",
   "metadata": {},
   "source": [
    "####  Билет 3\n",
    "Функции: определение, параметры. Анонимная функция Лямбда. Напишите анонимную функцию с двумя аргументами, результатом выполнения которой является первый аргумент в степени второго аргумента."
   ]
  },
  {
   "cell_type": "code",
   "execution_count": 1,
   "id": "47a54d29",
   "metadata": {},
   "outputs": [
    {
     "name": "stdout",
     "output_type": "stream",
     "text": [
      "6\n",
      "78125\n"
     ]
    },
    {
     "data": {
      "text/plain": [
       "81"
      ]
     },
     "execution_count": 1,
     "metadata": {},
     "output_type": "execute_result"
    }
   ],
   "source": [
    "#Функция — это блок кода, который можно многократно вызывать на выполнение. \n",
    "#Функция может использоваться для обработки данных, она получает на вход значения, обрабатывает его и возвращает результат в программу. \n",
    "#Также она может не возвращать значение, а выводить его на экран или записывать в файл.\n",
    "#Параметры функции представляют собой локальные переменные, которым присваиваются значения в момент ее вызова.\n",
    "#Пример\n",
    "\n",
    "def summary(a,b,c):\n",
    "    return(a+b+c)\n",
    "print(summary(1,2,3))\n",
    "#a, b и c - это параметры\n",
    "\n",
    "#В Python анонимная функция ‒ это функция, которая определяется без имени с помощью ключевого слова lambda.\n",
    "#Пример\n",
    "double = lambda x: x*x*x**x \n",
    "print(double(5))\n",
    "square = lambda x,y: x**y\n",
    "square(3,4)"
   ]
  },
  {
   "cell_type": "markdown",
   "id": "13613c4c",
   "metadata": {},
   "source": [
    "### 3-2. С помощью библиотеки SQLAlchemy создайте объекты таблиц базы данных Chinook. В таблицах Invoice и InvoiceLine содержится информация о заказах, в таблице Track - о произведениях (трэках). Выполните запрос показывающий, сколько раз поступали заказы на каждый из треков в 2013 году, ограничившись только такими трэками, на которые в данном году было не менее двух заказов. Результат должен содержать название трека и число заказов, отсортируйте результат по названию трэка."
   ]
  },
  {
   "cell_type": "code",
   "execution_count": 2,
   "id": "5a9ef407",
   "metadata": {},
   "outputs": [
    {
     "name": "stdout",
     "output_type": "stream",
     "text": [
      "dict_keys(['Album', 'Artist', 'Customer', 'Employee', 'Genre', 'Invoice', 'InvoiceLine', 'Track', 'MediaType', 'Playlist', 'PlaylistTrack'])\n"
     ]
    }
   ],
   "source": [
    "from sqlalchemy import MetaData, Table, create_engine, select, and_, or_, not_, cast\n",
    "from sqlalchemy import String, Numeric, Float, Integer\n",
    "from sqlalchemy.sql import func, alias, desc, exists\n",
    "\n",
    "import pandas as pd\n",
    "from matplotlib import pyplot\n",
    "\n",
    "engine = create_engine('sqlite:///Data/Chinook_Sqlite.sqlite')\n",
    "metadata = MetaData()\n",
    "metadata.reflect(bind=engine)\n",
    "conn=engine.connect()\n",
    "\n",
    "Album=Table(\"Album\", metadata, autoload=True, autoload_with=\"engine\")\n",
    "Artist=Table(\"Artist\", metadata, autoload=True, autoload_with=\"engine\")\n",
    "Customer=Table(\"Customer\", metadata, autoload=True, autoload_with=\"engine\")\n",
    "Employee=Table(\"Employee\", metadata, autoload=True, autoload_with=\"engine\")\n",
    "Track=Table(\"Track\", metadata, autoload=True, autoload_with=\"engine\")\n",
    "Genre=Table(\"Genre\", metadata, autoload=True, autoload_with=\"engine\")\n",
    "Invoice=Table(\"Invoice\", metadata, autoload=True, autoload_with=\"engine\")\n",
    "InvoiceLine=Table(\"InvoiceLine\", metadata, autoload=True, autoload_with=\"engine\")\n",
    "Playlist=Table(\"Playlist\", metadata, autoload=True, autoload_with=\"engine\")\n",
    "PlaylistTrack=Table(\"PlaylistTrack\", metadata, autoload=True, autoload_with=\"engine\")\n",
    "MediaType=Table(\"MediaType\",metadata, autoload=True, autoload_with=\"engine\")\n",
    "\n",
    "print(metadata.tables.keys())"
   ]
  },
  {
   "cell_type": "code",
   "execution_count": 3,
   "id": "089e5284",
   "metadata": {},
   "outputs": [
    {
     "name": "stdout",
     "output_type": "stream",
     "text": [
      "[('Eruption', 2), ('Paint It Black', 2), ('Release', 2), ('Sanctuary', 2), ('Sign Of The Cross', 2), (\"Since I've Been Loving You\", 2), ('Sweetest Thing', 2), ('The Trooper', 2), ('Where Eagles Dare', 2)]\n"
     ]
    }
   ],
   "source": [
    "I=Invoice.alias(\"I\")\n",
    "T=Track.alias(\"T\")\n",
    "IL=InvoiceLine.alias(\"IL\")\n",
    "\n",
    "s=select(T.c.Name, func.sum(IL.c.Quantity))\n",
    "s=s.where(I.c.InvoiceId==IL.c.InvoiceId)\n",
    "s=s.where(IL.c.TrackId==T.c.TrackId)\n",
    "s=s.where(I.c.InvoiceDate.between(\"2013-01-01\",\"2013-12-31\"))\n",
    "s=s.group_by(T.c.Name)\n",
    "s=s.having(func.sum(IL.c.Quantity) > 1)\n",
    "s=s.order_by(T.c.Name)\n",
    "result=conn.execute(s).fetchall()\n",
    "print(result)"
   ]
  },
  {
   "cell_type": "markdown",
   "id": "c9880ae8",
   "metadata": {},
   "source": [
    "### 3-3. Записи набора данных imdb.csv содержат информацию о фильмах. Атрибут Genre каждой записи содержит перечень жанров конкретного фильма. Создайте список всех режиссеров (атрибут Director) фильмов в жанре Music."
   ]
  },
  {
   "cell_type": "code",
   "execution_count": 4,
   "id": "e84a0624",
   "metadata": {},
   "outputs": [
    {
     "data": {
      "text/plain": [
       "{'Aamir Khan',\n",
       " 'Adam Shankman',\n",
       " 'Akiva Schaffer',\n",
       " 'Anne Fletcher',\n",
       " 'Craig Brewer',\n",
       " 'Damien Chazelle',\n",
       " 'Elizabeth Banks',\n",
       " 'Gregory Jacobs',\n",
       " 'Jason Moore',\n",
       " 'John Carney',\n",
       " 'Jon M. Chu',\n",
       " 'Julie Taymor',\n",
       " 'Kirsten Sheridan',\n",
       " 'Max Joseph',\n",
       " 'Paolo Sorrentino',\n",
       " 'Phyllida Lloyd',\n",
       " 'R.J. Cutler',\n",
       " 'Tim Burton',\n",
       " 'Tom Hooper'}"
      ]
     },
     "execution_count": 4,
     "metadata": {},
     "output_type": "execute_result"
    }
   ],
   "source": [
    "df=pd.read_csv('./Data/imdb.csv')\n",
    "df = df[df['Genre'].str.contains('Music')]\n",
    "set(df['Director'])"
   ]
  }
 ],
 "metadata": {
  "kernelspec": {
   "display_name": "Python 3",
   "language": "python",
   "name": "python3"
  },
  "language_info": {
   "codemirror_mode": {
    "name": "ipython",
    "version": 3
   },
   "file_extension": ".py",
   "mimetype": "text/x-python",
   "name": "python",
   "nbconvert_exporter": "python",
   "pygments_lexer": "ipython3",
   "version": "3.8.8"
  }
 },
 "nbformat": 4,
 "nbformat_minor": 5
}
