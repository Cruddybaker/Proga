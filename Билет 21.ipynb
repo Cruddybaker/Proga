{
 "cells": [
  {
   "cell_type": "code",
   "execution_count": 3,
   "id": "ace3e12c",
   "metadata": {},
   "outputs": [],
   "source": [
    "from sqlalchemy import MetaData, Table, create_engine, select, and_, or_, not_, cast\n",
    "from sqlalchemy import String, Numeric, Float, Integer\n",
    "from sqlalchemy.sql import func, alias, desc\n",
    "from pprint import pprint\n",
    "\n",
    "import pandas\n",
    "from matplotlib import pyplot\n",
    "\n",
    "engine = create_engine('sqlite:///Data/Chinook_Sqlite.sqlite')\n",
    "metadata = MetaData()\n",
    "metadata.reflect(bind=engine)\n",
    "conn=engine.connect()\n",
    "\n",
    "Album=Table(\"Album\", metadata, autoload=True, autoload_with=\"engine\")\n",
    "Artist=Table(\"Artist\", metadata, autoload=True, autoload_with=\"engine\")\n",
    "Customer=Table(\"Customer\", metadata, autoload=True, autoload_with=\"engine\")\n",
    "Employee=Table(\"Employee\", metadata, autoload=True, autoload_with=\"engine\")\n",
    "Track=Table(\"Track\", metadata, autoload=True, autoload_with=\"engine\")\n",
    "Genre=Table(\"Genre\", metadata, autoload=True, autoload_with=\"engine\")\n",
    "Invoice=Table(\"Invoice\", metadata, autoload=True, autoload_with=\"engine\")\n",
    "InvoiceLine=Table(\"InvoiceLine\", metadata, autoload=True, autoload_with=\"engine\")\n",
    "Playlist=Table(\"Playlist\", metadata, autoload=True, autoload_with=\"engine\")\n",
    "PlaylistTrack=Table(\"PlaylistTrack\", metadata, autoload=True, autoload_with=\"engine\")\n",
    "\n",
    "import pandas as pd\n",
    "df=pd.read_csv('./Data/imdb.csv')"
   ]
  },
  {
   "cell_type": "markdown",
   "id": "3fcc83a4",
   "metadata": {},
   "source": [
    "### 1 вопрос (20 баллов)\n",
    "\n",
    "Библиотека Pandas. Таблица pandas.DataFrame: индексация строк и столбцов, фильтрация. Функции loc[] и iloc[]."
   ]
  },
  {
   "cell_type": "markdown",
   "id": "c2a8be06",
   "metadata": {},
   "source": [
    "Pandas – это библиотека с открытым исходным кодом на Python. Она предоставляет готовые к использованию высокопроизводительные структуры данных и инструменты анализа данных.\n",
    "\n",
    "DataFrame — табличная структура данных их строк и столбцов. \n",
    "\n",
    "Индексирование может означать выбор всех строк и некоторых столбцов, некоторых строк и всех столбцов или некоторых из всех строк и столбцов. Индексирование по факту выбор подмножества.\n",
    "\n",
    "Фильтрация строк функцией isin() или query(). Подсчёт функцией count().\n",
    "Есть фильтрация по столбцу как будто вы обращаетесь к ключу словаря, или же к методу объекта. df [“название столбца”]. \n",
    "\n",
    "А есть фильтрация по строковому индексу двумя методами:\n",
    "\n",
    "loc — для доступа по именованному индексу\n",
    "\n",
    "iloc — для доступа по числовому индексу\n",
    "\n",
    "Индексация панд с использованием .loc[] , .iloc[ ] – способ извлечь элементы, строки и столбцы из DataFrame. \n",
    "\n",
    "Пример: Чтобы выбрать 2 строки и 3 столбца, делаем так: \n",
    "Dataframe.loc[[\"row1\", \"row2\"], [\"column1\", \"column2\", \"column3\"]]\n",
    "Пример: извлечение строки: row = data.iloc[3]\n",
    "\n",
    "Оператор индексирования используется для ссылки на квадратные скобки, следующие за объектом. \n",
    "Выбор одного столбца чтобы выбрать один столбец, мы просто помещаем имя столбца между скобками."
   ]
  },
  {
   "cell_type": "markdown",
   "id": "a715b9db",
   "metadata": {},
   "source": [
    "### 2 вопрос (20 баллов)\n",
    "\n",
    "С помощью библиотеки SQLAlchemy создайте объекты таблиц базы данных Chinook. Создайте запрос, который показывает имена (FirstName), фамилии, город клиентов (Customer), имена которых НЕ встречаются среди имен работников (Employee). Создайте этот запрос с помощью подзапроса."
   ]
  },
  {
   "cell_type": "code",
   "execution_count": 2,
   "id": "80bba15f",
   "metadata": {},
   "outputs": [
    {
     "name": "stdout",
     "output_type": "stream",
     "text": [
      "[('Luís Gonçalves', 'São José dos Campos'),\n",
      " ('Leonie Köhler', 'Stuttgart'),\n",
      " ('François Tremblay', 'Montréal'),\n",
      " ('Bjørn Hansen', 'Oslo'),\n",
      " ('František Wichterlová', 'Prague'),\n",
      " ('Helena Holý', 'Prague'),\n",
      " ('Astrid Gruber', 'Vienne'),\n",
      " ('Daan Peeters', 'Brussels'),\n",
      " ('Kara Nielsen', 'Copenhagen'),\n",
      " ('Eduardo Martins', 'São Paulo'),\n",
      " ('Alexandre Rocha', 'São Paulo'),\n",
      " ('Roberto Almeida', 'Rio de Janeiro'),\n",
      " ('Fernanda Ramos', 'Brasília'),\n",
      " ('Mark Philips', 'Edmonton'),\n",
      " ('Jennifer Peterson', 'Vancouver'),\n",
      " ('Frank Harris', 'Mountain View'),\n",
      " ('Jack Smith', 'Redmond'),\n",
      " ('Michelle Brooks', 'New York'),\n",
      " ('Tim Goyer', 'Cupertino'),\n",
      " ('Dan Miller', 'Mountain View'),\n",
      " ('Kathy Chase', 'Reno'),\n",
      " ('Heather Leacock', 'Orlando'),\n",
      " ('John Gordon', 'Boston'),\n",
      " ('Frank Ralston', 'Chicago'),\n",
      " ('Victor Stevens', 'Madison'),\n",
      " ('Richard Cunningham', 'Fort Worth'),\n",
      " ('Patrick Gray', 'Tucson'),\n",
      " ('Julia Barnett', 'Salt Lake City'),\n",
      " ('Edward Francis', 'Ottawa'),\n",
      " ('Martha Silk', 'Halifax'),\n",
      " ('Aaron Mitchell', 'Winnipeg'),\n",
      " ('Ellie Sullivan', 'Yellowknife'),\n",
      " ('João Fernandes', 'Lisbon'),\n",
      " ('Madalena Sampaio', 'Porto'),\n",
      " ('Hannah Schneider', 'Berlin'),\n",
      " ('Fynn Zimmermann', 'Frankfurt'),\n",
      " ('Niklas Schröder', 'Berlin'),\n",
      " ('Camille Bernard', 'Paris'),\n",
      " ('Dominique Lefebvre', 'Paris'),\n",
      " ('Marc Dubois', 'Lyon'),\n",
      " ('Wyatt Girard', 'Bordeaux'),\n",
      " ('Isabelle Mercier', 'Dijon'),\n",
      " ('Terhi Hämäläinen', 'Helsinki'),\n",
      " ('Ladislav Kovács', 'Budapest'),\n",
      " (\"Hugh O'Reilly\", 'Dublin'),\n",
      " ('Lucas Mancini', 'Rome'),\n",
      " ('Johannes Van der Berg', 'Amsterdam'),\n",
      " ('Stanisław Wójcik', 'Warsaw'),\n",
      " ('Enrique Muñoz', 'Madrid'),\n",
      " ('Joakim Johansson', 'Stockholm'),\n",
      " ('Emma Jones', 'London'),\n",
      " ('Phil Hughes', 'London'),\n",
      " ('Mark Taylor', 'Sidney'),\n",
      " ('Diego Gutiérrez', 'Buenos Aires'),\n",
      " ('Luis Rojas', 'Santiago'),\n",
      " ('Manoj Pareek', 'Delhi'),\n",
      " ('Puja Srivastava', 'Bangalore')]\n",
      "57\n"
     ]
    }
   ],
   "source": [
    "subq=select(Employee.c.FirstName).scalar_subquery()\n",
    "\n",
    "s=select(Customer.c.FirstName+' '+Customer.c.LastName, Customer.c.City)\n",
    "s=s.where(Customer.c.FirstName.notin_(subq))\n",
    "result=conn.execute(s).fetchall()\n",
    "pprint(result)\n",
    "print(len(result))"
   ]
  },
  {
   "cell_type": "markdown",
   "id": "7c413dcf",
   "metadata": {},
   "source": [
    "### 3 вопрос (20 баллов)\n",
    "\n",
    "Записи набора данных imdb.csv содержат информацию о фильмах. Атрибут Director каждой записи содержит имя режиссера конкретного фильма. Найдите режиссеров, снявших шесть и более фильмов."
   ]
  },
  {
   "cell_type": "code",
   "execution_count": 4,
   "id": "1a7f44a7",
   "metadata": {},
   "outputs": [
    {
     "data": {
      "text/html": [
       "<div>\n",
       "<style scoped>\n",
       "    .dataframe tbody tr th:only-of-type {\n",
       "        vertical-align: middle;\n",
       "    }\n",
       "\n",
       "    .dataframe tbody tr th {\n",
       "        vertical-align: top;\n",
       "    }\n",
       "\n",
       "    .dataframe thead th {\n",
       "        text-align: right;\n",
       "    }\n",
       "</style>\n",
       "<table border=\"1\" class=\"dataframe\">\n",
       "  <thead>\n",
       "    <tr style=\"text-align: right;\">\n",
       "      <th></th>\n",
       "      <th>Title</th>\n",
       "    </tr>\n",
       "    <tr>\n",
       "      <th>Director</th>\n",
       "      <th></th>\n",
       "    </tr>\n",
       "  </thead>\n",
       "  <tbody>\n",
       "    <tr>\n",
       "      <th>David Yates</th>\n",
       "      <td>6</td>\n",
       "    </tr>\n",
       "    <tr>\n",
       "      <th>M. Night Shyamalan</th>\n",
       "      <td>6</td>\n",
       "    </tr>\n",
       "    <tr>\n",
       "      <th>Michael Bay</th>\n",
       "      <td>6</td>\n",
       "    </tr>\n",
       "    <tr>\n",
       "      <th>Paul W.S. Anderson</th>\n",
       "      <td>6</td>\n",
       "    </tr>\n",
       "    <tr>\n",
       "      <th>Ridley Scott</th>\n",
       "      <td>8</td>\n",
       "    </tr>\n",
       "  </tbody>\n",
       "</table>\n",
       "</div>"
      ],
      "text/plain": [
       "                    Title\n",
       "Director                 \n",
       "David Yates             6\n",
       "M. Night Shyamalan      6\n",
       "Michael Bay             6\n",
       "Paul W.S. Anderson      6\n",
       "Ridley Scott            8"
      ]
     },
     "execution_count": 4,
     "metadata": {},
     "output_type": "execute_result"
    }
   ],
   "source": [
    "directors = df[['Director', 'Title']].groupby('Director').count()\n",
    "directors[directors['Title'] >= 6]"
   ]
  }
 ],
 "metadata": {
  "kernelspec": {
   "display_name": "Python 3",
   "language": "python",
   "name": "python3"
  },
  "language_info": {
   "codemirror_mode": {
    "name": "ipython",
    "version": 3
   },
   "file_extension": ".py",
   "mimetype": "text/x-python",
   "name": "python",
   "nbconvert_exporter": "python",
   "pygments_lexer": "ipython3",
   "version": "3.8.8"
  }
 },
 "nbformat": 4,
 "nbformat_minor": 5
}
