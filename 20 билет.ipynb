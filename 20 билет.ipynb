{
 "cells": [
  {
   "cell_type": "markdown",
   "id": "020bf610",
   "metadata": {},
   "source": [
    "**ЭКЗАМЕНАЦИОННЫЙ БИЛЕТ № 20**\n",
    "\n",
    "1 вопрос  \n",
    "Команда SELECT: использование, ключевые слова ALL, DISTINCT, FROM. SQL-подзапросы.  \n",
    "Оператор SELECT (выбрать) языка SQL является самым важным и самым часто используемым оператором. Он предназначен для выборки информации из таблиц базы данных.   \n",
    "Синтаксис оператора SELECT:   \n",
    "SELECT [DISTINCT] <список атрибутов>  \n",
    "FROM <список таблиц>  \n",
    "[WHERE <условие выборки>]  \n",
    "[ORDER BY <список атрибутов>]  \n",
    "[GROUP BY <список атрибутов>]  \n",
    "[HAVING <условие>]  \n",
    "[UNION <выражение с оператором SELECT>J;  \n",
    "\n",
    "SELECT сообщает базе данных, что предложение является запросом на извлечение информации. После слова SELECT через запятую перечисляются наименования полей (список атрибутов), содержимое которых запрашивается. Потом они кстати выведутся в том порядке, в каком вы их запросили.  \n",
    "Обязательным ключевым словом является слово FROM (из). За ключевым словом FROM указывается список разделенных запятыми имен таблиц, из которых извлекается информация. SELECT name, surname FROM student  \n",
    "Если необходимо вывести значения всех столбцов таблицы, можно вместо перечисления их имен использовать символ * (звездочка). \n",
    "SQL подзапрос —  запрос, вложенный в другой запрос, который используется внутри инструкции SELECT, INSERT, UPDATE или DELETE или внутри другого вложенного запроса. Его принципы или требования:  \n",
    "•\tПодзапрос должен быть заключен в круглые скобки; Подзапрос должен указываться в правой части оператора сравнения;  \n",
    "•\tПодзапросы не могут обрабатывать свои результаты, поэтому в подзапрос не может быть добавлено условие ORDER BY;  \n",
    "•\tИспользуйте однострочные операторы с однострочными подзапросами;  \n",
    "•\tЕсли подзапрос возвращает во внешний запрос значение null, внешний запрос не будет возвращать никакие строки при использовании операторов сравнения в условии WHERE.  \n",
    "Получаемые в рез-те SQL-запроса таблицы не в полной мере отвечают определению реляционного отношения. В них могут оказаться кортежи (строки) с одинаковыми значениями атрибутов. Любой SQL-запрос должен заканчиваться символом ;  \n",
    "Ключевые слова:   \n",
    "Для исключения из результата SELECT-запроса повторяющихся записей используется ключевое слово DISTINCT (отличный). DISTINCT исключает дубликаты строк, в которых значения всех выбранных полей идентичны.  \n",
    "ALL (все), оказывает противоположное действие, то есть при его использовании повторяющиеся строки включаются в состав выходных данных. Режим, задаваемый ключевым словом ALL, действует по умолчанию, поэтому в реальных запросах для этих целей оно практически не используется.  \n",
    "WHERE (где), позволяет задавать выражение условия (предикат), принимающее значение истина или ложь для значений полей строк таблиц, к которым обращается оператор SELECT. Предложение WHERE определяет, какие строки указанных таблиц должны быть выбраны. В задаваемых в предложении WHERE условиях могут использоваться операции сравнения.  \n"
   ]
  },
  {
   "cell_type": "markdown",
   "id": "68b0abb5",
   "metadata": {},
   "source": [
    "**2 вопрос**  \n",
    "С помощью библиотеки SQLAlchemy создайте объекты таблиц базы данных Chinook. Создайте запрос, который показывает название произведения (Track), имя исполнителя (Artist), идентификатор строки заказа (InvoiceLine) для всех купленных произведений в стиле Classical (Genre). Отсортируйте результат по названию трека.\n"
   ]
  },
  {
   "cell_type": "code",
   "execution_count": 1,
   "id": "94f28e31",
   "metadata": {},
   "outputs": [],
   "source": [
    "from sqlalchemy import *\n",
    "from sqlalchemy.sql import *\n",
    "\n",
    "import pandas as pd\n",
    "pd.set_option('display.max_rows', 1000)\n",
    "from matplotlib import pyplot as plt\n",
    "\n",
    "engine = create_engine('sqlite:///Data/Chinook_Sqlite.sqlite')\n",
    "metadata = MetaData()\n",
    "metadata.reflect(bind=engine)\n",
    "conn=engine.connect()\n",
    "\n",
    "Album=Table(\"Album\", metadata, autoload=True, autoload_with=\"engine\")\n",
    "Artist=Table(\"Artist\", metadata, autoload=True, autoload_with=\"engine\")\n",
    "Customer=Table(\"Customer\", metadata, autoload=True, autoload_with=\"engine\")\n",
    "Employee=Table(\"Employee\", metadata, autoload=True, autoload_with=\"engine\")\n",
    "Track=Table(\"Track\", metadata, autoload=True, autoload_with=\"engine\")\n",
    "Genre=Table(\"Genre\", metadata, autoload=True, autoload_with=\"engine\")\n",
    "Invoice=Table(\"Invoice\", metadata, autoload=True, autoload_with=\"engine\")\n",
    "InvoiceLine=Table(\"InvoiceLine\", metadata, autoload=True, autoload_with=\"engine\")\n",
    "Playlist=Table(\"Playlist\", metadata, autoload=True, autoload_with=\"engine\")\n",
    "PlaylistTrack=Table(\"PlaylistTrack\", metadata, autoload=True, autoload_with=\"engine\")"
   ]
  },
  {
   "cell_type": "code",
   "execution_count": 14,
   "id": "02480eaa",
   "metadata": {},
   "outputs": [
    {
     "data": {
      "text/plain": [
       "[(\"A Midsummer Night's Dream, Op.61 Incidental Music: No.7 Notturno\", 'Philharmonia Orchestra & Sir Neville Marriner', 1149),\n",
       " ('Act IV, Symphony', 'Roger Norrington, London Classical Players', 573),\n",
       " ('Adios nonino', 'The 12 Cellists of The Berlin Philharmonic', 572),\n",
       " ('Canon and Gigue in D Major: I. Canon', 'English Concert & Trevor Pinnock', 1133),\n",
       " ('Concerto No.2 in F Major, BWV1047, I. Allegro', 'Orchestra of The Age of Enlightenment', 1709),\n",
       " ('Concerto for Cello and Orchestra in E minor, Op. 85: I. Adagio - Moderato', 'Felix Schmidt, London Symphony Orchestra & Rafael Frühbeck de Burgos', 1713),\n",
       " ('Concerto for Piano No. 2 in F Minor, Op. 21: II. Larghetto', 'Emanuel Ax, Eugene Ormandy & Philadelphia Orchestra', 1710),\n",
       " ('Die Walküre: The Ride of the Valkyries', 'Sir Georg Solti & Wiener Philharmoniker', 1707),\n",
       " ('Fantasia On Greensleeves', 'Academy of St. Martin in the Fields & Sir Neville Marriner', 1712),\n",
       " ('Jupiter, the Bringer of Jollity', 'Eugene Ormandy', 1135),\n",
       " ('Karelia Suite, Op.11: 2. Ballade (Tempo Di Menuetto)', 'Berliner Philharmoniker & Hans Rosbaud', 1711),\n",
       " ('Metopes, Op. 29: Calypso', 'Martin Roscoe', 1152),\n",
       " ('Music for the Funeral of Queen Mary: VI. \"Thou Knowest, Lord, the Secrets of Our Hearts\"', 'Equale Brass Ensemble, John Eliot Gardiner & Munich Monteverdi Orchestra and Choir', 574),\n",
       " ('Music for the Funeral of Queen Mary: VI. \"Thou Knowest, Lord, the Secrets of Our Hearts\"', 'Equale Brass Ensemble, John Eliot Gardiner & Munich Monteverdi Orchestra and Choir', 1725),\n",
       " ('Partita in E Major, BWV 1006A: I. Prelude', 'Julian Bream', 575),\n",
       " ('Peer Gynt Suite No.1, Op.46: 1. Morning Mood', 'Berliner Philharmoniker & Herbert Von Karajan', 1717),\n",
       " ('Piano Sonata No. 14 in C Sharp Minor, Op. 27, No. 2, \"Moonlight\": I. Adagio sostenuto', 'Maurizio Pollini', 564),\n",
       " ('Pini Di Roma (Pinien Von Rom) \\\\ I Pini Della Via Appia', 'Eugene Ormandy', 1153),\n",
       " ('Prometheus Overture, Op. 43', 'Otto Klemperer & Philharmonia Orchestra', 569),\n",
       " ('Requiem, Op.48: 4. Pie Jesu', 'Academy of St. Martin in the Fields, John Birch, Sir Neville Marriner & Sylvia McNair', 562),\n",
       " ('Romeo et Juliette: No. 11 - Danse des Chevaliers', 'Michael Tilson Thomas & San Francisco Symphony', 1715),\n",
       " (\"Scheherazade, Op. 35: I. The Sea and Sindbad's Ship\", 'Chicago Symphony Orchestra & Fritz Reiner', 1136),\n",
       " (\"Scheherazade, Op. 35: I. The Sea and Sindbad's Ship\", 'Chicago Symphony Orchestra & Fritz Reiner', 1708),\n",
       " ('Sing Joyfully', \"The King's Singers\", 576),\n",
       " ('Sonata for Solo Violin: IV: Presto', 'Yehudi Menuhin', 570),\n",
       " ('String Quartet No. 12 in C Minor, D. 703 \"Quartettsatz\": II. Andante - Allegro assai', 'Emerson String Quartet', 578),\n",
       " ('String Quartet No. 12 in C Minor, D. 703 \"Quartettsatz\": II. Andante - Allegro assai', 'Emerson String Quartet', 1727),\n",
       " ('Suite No. 3 in D, BWV 1068: III. Gavotte I & II', 'Academy of St. Martin in the Fields, Sir Neville Marriner & Thurston Dart', 571),\n",
       " ('Suite No. 3 in D, BWV 1068: III. Gavotte I & II', 'Academy of St. Martin in the Fields, Sir Neville Marriner & Thurston Dart', 1724),\n",
       " ('Suite for Solo Cello No. 1 in G Major, BWV 1007: I. Prélude', 'Yo-Yo Ma', 1706),\n",
       " (\"Symphonie Fantastique, Op. 14: V. Songe d'une nuit du sabbat\", 'Michael Tilson Thomas & San Francisco Symphony', 565),\n",
       " (\"Symphonie Fantastique, Op. 14: V. Songe d'une nuit du sabbat\", 'Michael Tilson Thomas & San Francisco Symphony', 1716),\n",
       " ('Symphony No. 104 in D Major \"London\": IV. Finale: Spiritoso', 'Royal Philharmonic Orchestra & Sir Thomas Beecham', 1134),\n",
       " ('Symphony No. 2, Op. 16 -  \"The Four Temperaments\": II. Allegro Comodo e Flemmatico', 'Göteborgs Symfoniker & Neeme Järvi', 1726),\n",
       " ('Symphony No. 2: III. Allegro vivace', \"Kent Nagano and Orchestre de l'Opéra de Lyon\", 1151),\n",
       " ('Symphony No. 3 Op. 36 for Orchestra and Soprano \"Symfonia Piesni Zalosnych\" \\\\ Lento E Largo - Tranquillissimo', 'Adrian Leaper & Doreen de Feis', 1150),\n",
       " ('Symphony No. 41 in C Major, K. 551, \"Jupiter\": IV. Molto allegro', 'Berliner Philharmoniker & Herbert Von Karajan', 1718),\n",
       " ('The Messiah: Behold, I Tell You a Mystery... The Trumpet Shall Sound', 'Scholars Baroque Ensemble', 561),\n",
       " ('Two Fanfares for Orchestra: II. Short Ride in a Fast Machine', 'Edo de Waart & San Francisco Symphony', 1137),\n",
       " (\"Wellington's Victory or the Battle Symphony, Op.91: 2. Symphony of Triumph\", 'Antal Doráti & London Symphony Orchestra', 1714),\n",
       " ('Étude 1, In C Major - Preludio (Presto) - Liszt', 'Michele Campanella', 577)]"
      ]
     },
     "execution_count": 14,
     "metadata": {},
     "output_type": "execute_result"
    }
   ],
   "source": [
    "s=select(Track.c.Name,Artist.c.Name,InvoiceLine.c.InvoiceLineId)\n",
    "s=s.where(Artist.c.ArtistId==Album.c.ArtistId)\n",
    "s=s.where(Album.c.AlbumId==Track.c.AlbumId)\n",
    "s=s.where(Genre.c.GenreId==Track.c.GenreId)\n",
    "s=s.where(Track.c.TrackId==InvoiceLine.c.TrackId)\n",
    "s=s.where(Genre.c.Name=='Classical')\n",
    "s=s.order_by(Track.c.Name)\n",
    "result=conn.execute(s).fetchall()\n",
    "result"
   ]
  },
  {
   "cell_type": "markdown",
   "id": "3d6483d9",
   "metadata": {},
   "source": [
    "**3 вопрос**\n",
    "Записи набора данных imdb.csv содержат информацию о фильмах. Атрибут Genre каждой записи содержит перечень жанров конкретного фильма. Найдите среднюю продолжительность фильмов в жанре Horror.\n"
   ]
  },
  {
   "cell_type": "code",
   "execution_count": 12,
   "id": "50d93a2d",
   "metadata": {},
   "outputs": [
    {
     "data": {
      "text/plain": [
       "Runtime (Minutes)    94.545455\n",
       "dtype: float64"
      ]
     },
     "execution_count": 12,
     "metadata": {},
     "output_type": "execute_result"
    }
   ],
   "source": [
    "#Если только 1 жанр(Horror)\n",
    "df=pd.read_csv('./data/imdb.csv')\n",
    "df[df['Genre'].isin(['Horror'])].mean()[['Runtime (Minutes)']]\n"
   ]
  },
  {
   "cell_type": "code",
   "execution_count": 10,
   "id": "d35dfa02",
   "metadata": {},
   "outputs": [
    {
     "data": {
      "text/plain": [
       "101.56302521008404"
      ]
     },
     "execution_count": 10,
     "metadata": {},
     "output_type": "execute_result"
    }
   ],
   "source": [
    "#Если жаноров несколько, не только Horror\n",
    "df=pd.read_csv('./data/imdb.csv')\n",
    "df=df[df['Genre'].str.contains('Horror')]\n",
    "df['Runtime (Minutes)'].mean()"
   ]
  }
 ],
 "metadata": {
  "kernelspec": {
   "display_name": "Python 3",
   "language": "python",
   "name": "python3"
  },
  "language_info": {
   "codemirror_mode": {
    "name": "ipython",
    "version": 3
   },
   "file_extension": ".py",
   "mimetype": "text/x-python",
   "name": "python",
   "nbconvert_exporter": "python",
   "pygments_lexer": "ipython3",
   "version": "3.8.8"
  }
 },
 "nbformat": 4,
 "nbformat_minor": 5
}
