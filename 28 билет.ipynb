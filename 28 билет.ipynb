{
 "cells": [
  {
   "cell_type": "markdown",
   "id": "9c539ebf",
   "metadata": {},
   "source": [
    "### ЭКЗАМЕНАЦИОННЫЙ БИЛЕТ № 28\n",
    "\n",
    "1 вопрос (20 баллов)\n",
    "Соединение таблиц с помощью оператора JOIN. Схема результата. Ключевые слова LEFT, RIGHT, INNER.\n",
    "\n",
    "Если в операторе SELECT после ключевого слова FROM указывается не одна, а две таблицы, то в результате выполнения запроса, в котором отсутствует предложение WHERE или JOIN, каждая строка одной таблицы будет соединена с каждой строкой второй таблицы. Соединение таблиц имеет смысл тогда, когда соединяются не все строки исходных таблиц, а только те, которые интересуют пользователя. Такое ограничение может быть осуществлено с помощью использования в запросе соответствующего условия в предложении JOIN. Таким образом, SQL позволяет выводить информацию из нескольких таблиц, связывая их по значениям определенных полей. Это соединение считается внутренним (INNER) Это можно сделать с помощью следующего запроса:\n",
    "\n",
    "SELECT STUDENT.SURNAME, UNIVERSITY.UNIV_NAME, STUDENT.CITY\n",
    "FROM STUDENT INNER JOIN UNIVERSITY\n",
    "ON STUDENT.CITY = UNIVERSITY.CITY;\n",
    "\n",
    "В Пайтон для выполнения операции соединения таблиц мы будем использовать функции join() и select_from().\n",
    "\n",
    "Как отмечалось ранее, при использовании внутреннего (INNER) соединения таблиц соединяются только те их строки, в которых совпадают значения полей, задаваемые в предложении WHERE или JOIN запроса. Однако во многих случаях это может привести к нежелательной потере информации. \n",
    "Если нам необходимо вывести также отсутствующие строки, то мы используем LEFT/RIGHT OUTER JOIN\n",
    "\n",
    "SELECT SURNAME, MARK\n",
    "FROM STUDENT LEFT OUTER JOIN EXAM_MARKS\n",
    "ON STUDENT.STUDENT_ID = EXAM_MARKS.STUDENT_ID;\n",
    "\n",
    "При использовании левого соединения расширение выводимой таблицы осуществляется за счет записей входной таблицы, имя которой указано слева от оператора JOIN.\n",
    "\n",
    "На языке программирования Python внешнее соединение реализуется с помощью функции\n",
    "\n",
    "function sqlalchemy.sql.expression.outerjoin(left, right, onclause=None, full=False)\n",
    "\n",
    "В таком случае данные левой таблицы - берутся полностью, а пустые значения второй таблицы заполняются NaN"
   ]
  },
  {
   "cell_type": "markdown",
   "id": "7f185bb6",
   "metadata": {},
   "source": [
    "### 2. С помощью библиотеки SQLAlchemy создайте объекты таблиц базы данных Chinook. Создайте запрос, который показывает название произведения (Track), имя исполнителя (Artist), идентификатор строки заказа (InvoiceLine) для всех купленных произведений в стиле World (Genre). Отсортируйте результат по названию трека."
   ]
  },
  {
   "cell_type": "code",
   "execution_count": 1,
   "id": "4412fe8f",
   "metadata": {},
   "outputs": [
    {
     "name": "stdout",
     "output_type": "stream",
     "text": [
      "dict_keys(['Album', 'Artist', 'Customer', 'Employee', 'Genre', 'Invoice', 'InvoiceLine', 'Track', 'MediaType', 'Playlist', 'PlaylistTrack'])\n"
     ]
    }
   ],
   "source": [
    "from sqlalchemy import MetaData, Table, create_engine, select, and_, or_, not_, cast\n",
    "from sqlalchemy import String, Numeric, Float, Integer\n",
    "from sqlalchemy.sql import func, alias, desc, exists\n",
    "\n",
    "import pandas as pd\n",
    "from matplotlib import pyplot\n",
    "\n",
    "engine = create_engine('sqlite:///Data/Chinook_Sqlite.sqlite')\n",
    "metadata = MetaData()\n",
    "metadata.reflect(bind=engine)\n",
    "conn=engine.connect()\n",
    "\n",
    "Album=Table(\"Album\", metadata, autoload=True, autoload_with=\"engine\")\n",
    "Artist=Table(\"Artist\", metadata, autoload=True, autoload_with=\"engine\")\n",
    "Customer=Table(\"Customer\", metadata, autoload=True, autoload_with=\"engine\")\n",
    "Employee=Table(\"Employee\", metadata, autoload=True, autoload_with=\"engine\")\n",
    "Track=Table(\"Track\", metadata, autoload=True, autoload_with=\"engine\")\n",
    "Genre=Table(\"Genre\", metadata, autoload=True, autoload_with=\"engine\")\n",
    "Invoice=Table(\"Invoice\", metadata, autoload=True, autoload_with=\"engine\")\n",
    "InvoiceLine=Table(\"InvoiceLine\", metadata, autoload=True, autoload_with=\"engine\")\n",
    "Playlist=Table(\"Playlist\", metadata, autoload=True, autoload_with=\"engine\")\n",
    "PlaylistTrack=Table(\"PlaylistTrack\", metadata, autoload=True, autoload_with=\"engine\")\n",
    "MediaType=Table(\"MediaType\",metadata, autoload=True, autoload_with=\"engine\")\n",
    "\n",
    "print(metadata.tables.keys())"
   ]
  },
  {
   "cell_type": "code",
   "execution_count": 2,
   "id": "e2168e89",
   "metadata": {},
   "outputs": [
    {
     "data": {
      "text/plain": [
       "[('A Moça e a Chuva', 'Mônica Marianno', 2045),\n",
       " ('Aos Leões', 'Mônica Marianno', 899),\n",
       " ('Cafezinho', 'João Suplicy', 1401),\n",
       " ('Demorou!', 'Mônica Marianno', 900),\n",
       " ('Din Din Wo (Little Child)', 'Habib Koité and Bamada', 1127),\n",
       " ('Enquanto O Dia Não Vem', 'João Suplicy', 256),\n",
       " ('Equinocio', 'João Suplicy', 1973),\n",
       " ('Já Foi', 'Mônica Marianno', 327),\n",
       " ('No Futuro', 'João Suplicy', 1400),\n",
       " ('O Que Vai Em Meu Coração', 'Mônica Marianno', 2044),\n",
       " ('Papelão', 'João Suplicy', 828),\n",
       " ('Voce Inteira', 'João Suplicy', 255),\n",
       " ('É Fogo', 'Mônica Marianno', 1472)]"
      ]
     },
     "execution_count": 2,
     "metadata": {},
     "output_type": "execute_result"
    }
   ],
   "source": [
    "T = Track.alias('T')\n",
    "Ar = Artist.alias('Ar')\n",
    "Al = Album.alias('Al')\n",
    "G = Genre.alias('G')\n",
    "Il = InvoiceLine.alias('Il')\n",
    "\n",
    "s = select(T.c.Name, Ar.c.Name, Il.c.InvoiceLineId)\n",
    "s = s.where(and_(T.c.AlbumId == Al.c.AlbumId,\n",
    "               Al.c.ArtistId == Ar.c.ArtistId,\n",
    "               T.c.GenreId == G.c.GenreId,\n",
    "               Il.c.TrackId == T.c.TrackId))\n",
    "s = s.where(G.c.Name == 'World')\n",
    "s = s.order_by(T.c.Name)\n",
    "result = conn.execute(s).fetchall()\n",
    "result"
   ]
  },
  {
   "cell_type": "markdown",
   "id": "ff64f3da",
   "metadata": {},
   "source": [
    "### 3. Записи набора данных imdb.csv содержат информацию о фильмах. Атрибут Rating каждой записи содержит значение рейтинга конкретного фильма. Постройте гистограмму распределения рейтинга фильмов."
   ]
  },
  {
   "cell_type": "code",
   "execution_count": 3,
   "id": "ee19cd5b",
   "metadata": {},
   "outputs": [
    {
     "data": {
      "image/png": "[encoded data removed]",
      "text/plain": [
       "<Figure size 432x288 with 1 Axes>"
      ]
     },
     "metadata": {
      "needs_background": "light"
     },
     "output_type": "display_data"
    }
   ],
   "source": [
    "import matplotlib.pyplot as plt\n",
    "df = pd.read_csv('./Data/imdb.csv')\n",
    "fig=plt.figure()\n",
    "axes=fig.add_axes([0,0,1,1])\n",
    "axes.hist(df['Rating'],bins=20,color='grey')\n",
    "axes.set_xlabel('Рейтинг')\n",
    "axes.set_ylabel('Количество фильмов');"
   ]
  }
 ],
 "metadata": {
  "kernelspec": {
   "display_name": "Python 3",
   "language": "python",
   "name": "python3"
  },
  "language_info": {
   "codemirror_mode": {
    "name": "ipython",
    "version": 3
   },
   "file_extension": ".py",
   "mimetype": "text/x-python",
   "name": "python",
   "nbconvert_exporter": "python",
   "pygments_lexer": "ipython3",
   "version": "3.8.8"
  }
 },
 "nbformat": 4,
 "nbformat_minor": 5
}
