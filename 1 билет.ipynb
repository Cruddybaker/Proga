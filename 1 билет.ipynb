{
 "cells": [
  {
   "cell_type": "markdown",
   "id": "7ced571f",
   "metadata": {},
   "source": [
    "#### ЭКЗАМЕНАЦИОННЫЙ БИЛЕТ № 1\n",
    "\n",
    "1 вопрос (20 баллов)\n",
    "Списки. Методы работы со списками. Генератор списков. Доступ к элементам списка. Добавление и изменение элементов списка. Удаление элементов списка по индексу и по значению.\n",
    "\n",
    "Списки в Python - это упорядоченная структура данных, которая используется для хранения объектов произвольных типов данных. Счёт элементов начинается с индекса [0]."
   ]
  },
  {
   "cell_type": "code",
   "execution_count": 1,
   "id": "56b3adba",
   "metadata": {},
   "outputs": [
    {
     "name": "stdout",
     "output_type": "stream",
     "text": [
      "<class 'list'>\n",
      "['Eggs', 3, ['Morning'], True]\n",
      "['Eggs', 5, ['Morning'], True]\n",
      "4\n",
      "['Диван', 'Чемодан', 'Саквояж', 'Корзина', 'Картина', 'Картонка']\n",
      "Чемодан\n",
      "Картонка\n",
      "['Диван', 'Саквояж', 'Картина']\n",
      "['Чемодан', 'Корзина', 'Картонка']\n",
      "['Саквояж', 'Корзина', 'Картина']\n",
      "['Россия', 'Казахстан', 'Беларусь', 'Таджикистан', 'Киргизия', 'Узбекистан']\n",
      "['Россия', 'Казахстан', 'Белоруссия', 'Беларусь', 'Таджикистан', 'Киргизия', 'Узбекистан', 'Армения']\n",
      "['Россия', 'Казахстан', 'Белоруссия', 'Беларусь', 'Таджикистан', 'Киргизия', 'Узбекистан', 'Армения', 'Молдавия', 'Эстония']\n",
      "['Армения', 'Беларусь', 'Белоруссия', 'Казахстан', 'Киргизия', 'Молдавия', 'Россия', 'Таджикистан', 'Узбекистан', 'Эстония']\n",
      "['Армения', 'Беларусь', 'Белоруссия', 'Казахстан', 'Киргизия', 'Молдавия', 'Россия', 'Таджикистан']\n",
      "[]\n",
      "[0, 1, 2, 3, 4, 5, 6, 7, 8, 9]\n",
      "['G', 'e', 'n', 'e', 'r', 'a', 't', 'o', 'r']\n",
      "[0, 13, 26, 39, 52, 65, 78, 91, 104, 117]\n",
      "[2, 5, 4, 7, 1, 6, 7, 4, 0, 7, 6, 5, 7, 0, 1, 2]\n",
      "[-13, -94, 85, -52, -81, -19, -1, 30, 21, -91]\n",
      "[[0, 0, 0], [0, 1, 2], [0, 2, 4]]\n"
     ]
    }
   ],
   "source": [
    "#Методы работы со списками\n",
    "\n",
    "spisok = [] #создание пустого списка\n",
    "print(type(spisok)) #Название типа данных для списка в Python\n",
    "spisok = ['Eggs', 3, ['Morning'], True] #Возможные элементы списка (разные типы данных)\n",
    "print(spisok) #Вывод списка\n",
    "spisok[1] = 5 #Замена элемента на втором месте\n",
    "print(spisok)\n",
    "print(len(spisok)) #Длина (количество элементов)\n",
    "\n",
    "#Доступ к элементам списка\n",
    "spisok1 = list((\"Диван\", \"Чемодан\", \"Саквояж\", \"Корзина\", \"Картина\", \"Картонка\")) #двойные круглые скобки - создание списка из кортежа\n",
    "print(spisok1)\n",
    "print(spisok1[1]) #Вывод 2 элемента\n",
    "print(spisok1[-1]) #Последний элемент\n",
    "print(spisok1[::2]) #Каждый второй, начиная с первого\n",
    "print(spisok1[1::2]) #Каждый второй, начиная со второго\n",
    "print(spisok1[2:5]) #Со 2 по 5\n",
    "\n",
    "#Добавление и изменение элементов списка\n",
    "evrases = ['Россия', 'Казахстан', 'Беларусь', 'Таджикистан', 'Киргизия', 'Узбекистан']\n",
    "print(evrases)\n",
    "evrases.append('Армения') #Добавить элемент к списку\n",
    "evrases.insert(2,'Белоруссия') #Вставить элемент вместо определенного индекса\n",
    "print(evrases)\n",
    "evrases_new = ['Молдавия', 'Эстония'] \n",
    "evrases.extend(evrases_new) #Добавить элементы из другого списка в текущий\n",
    "print(evrases)\n",
    "evrases.sort() #Отсортировать по алфавиту\n",
    "print(evrases)\n",
    "\n",
    "#Удаление элементов списка по индексу и по значению\n",
    "evrases.remove('Эстония') #Убрать элемент из списка\n",
    "evrases.pop(8) #То же, но через индекс\n",
    "print(evrases)\n",
    "evrases.clear() #Очистить элементы списка\n",
    "print(evrases)\n",
    "\n",
    "#Генератор списков\n",
    "spisok2 = [i for i in range(0, 10)] #Генератор списка от 0 до 9\n",
    "print(spisok2)\n",
    "spisok3 = [i for i in 'Generator'] #Создание списка из элементов string()\n",
    "print(spisok3)\n",
    "spisok4 = [(lambda i: i*13)(i) for i in range(0, 10)] #Генератор через лямбда\n",
    "print(spisok4)\n",
    "spisok5 = [i^j for i in range(1,5) for j in range(3,7)] #Генератор через цикл\n",
    "print(spisok5)\n",
    "from random import randint\n",
    "spisok6 = [randint(-100,100) for i in range(0,10)] #Генератор случаных чисел\n",
    "print(spisok6)\n",
    "spisok7 = [[i*j for i in range(3)] for j in range(3)] #Генератор вложенных списков\n",
    "print(spisok7)"
   ]
  },
  {
   "cell_type": "markdown",
   "id": "bdaf1a56",
   "metadata": {},
   "source": [
    "### 1-2. С помощью библиотеки SQLAlchemy создайте объекты таблиц базы данных Chinook. В таблице Artist содержится информация об исполнителях, в таблице InvoiceLine информация о покупках. Напишите запрос, показывающий имена трех самых \"покупаемых\" (произведения которых куплены наибольшее количество раз) исполнителей."
   ]
  },
  {
   "cell_type": "code",
   "execution_count": 2,
   "id": "a3703d7b",
   "metadata": {},
   "outputs": [
    {
     "name": "stdout",
     "output_type": "stream",
     "text": [
      "dict_keys(['Album', 'Artist', 'Customer', 'Employee', 'Genre', 'Invoice', 'InvoiceLine', 'Track', 'MediaType', 'Playlist', 'PlaylistTrack'])\n"
     ]
    }
   ],
   "source": [
    "from sqlalchemy import MetaData, Table, create_engine, select, and_, or_, not_, cast\n",
    "from sqlalchemy import String, Numeric, Float, Integer\n",
    "from sqlalchemy.sql import func, alias, desc, exists\n",
    "\n",
    "import pandas as pd\n",
    "from matplotlib import pyplot\n",
    "\n",
    "engine = create_engine('sqlite:///Data/Chinook_Sqlite.sqlite')\n",
    "metadata = MetaData()\n",
    "metadata.reflect(bind=engine)\n",
    "conn=engine.connect()\n",
    "\n",
    "Album=Table(\"Album\", metadata, autoload=True, autoload_with=\"engine\")\n",
    "Artist=Table(\"Artist\", metadata, autoload=True, autoload_with=\"engine\")\n",
    "Customer=Table(\"Customer\", metadata, autoload=True, autoload_with=\"engine\")\n",
    "Employee=Table(\"Employee\", metadata, autoload=True, autoload_with=\"engine\")\n",
    "Track=Table(\"Track\", metadata, autoload=True, autoload_with=\"engine\")\n",
    "Genre=Table(\"Genre\", metadata, autoload=True, autoload_with=\"engine\")\n",
    "Invoice=Table(\"Invoice\", metadata, autoload=True, autoload_with=\"engine\")\n",
    "InvoiceLine=Table(\"InvoiceLine\", metadata, autoload=True, autoload_with=\"engine\")\n",
    "Playlist=Table(\"Playlist\", metadata, autoload=True, autoload_with=\"engine\")\n",
    "PlaylistTrack=Table(\"PlaylistTrack\", metadata, autoload=True, autoload_with=\"engine\")\n",
    "MediaType=Table(\"MediaType\",metadata, autoload=True, autoload_with=\"engine\")\n",
    "\n",
    "print(metadata.tables.keys())"
   ]
  },
  {
   "cell_type": "code",
   "execution_count": 3,
   "id": "1c1cfb03",
   "metadata": {},
   "outputs": [
    {
     "name": "stdout",
     "output_type": "stream",
     "text": [
      "[('Iron Maiden', 140), ('U2', 107), ('Metallica', 91)]\n"
     ]
    }
   ],
   "source": [
    "s=select([Artist.c.Name, func.sum(InvoiceLine.c.Quantity)])\n",
    "s=s.where(Artist.c.ArtistId==Album.c.ArtistId)\n",
    "s=s.where(Album.c.AlbumId==Track.c.AlbumId)\n",
    "s=s.where(Track.c.TrackId==InvoiceLine.c.TrackId)\n",
    "s=s.group_by(Artist.c.Name)\n",
    "s=s.order_by(desc(func.sum(InvoiceLine.c.Quantity)))\n",
    "s=s.limit(3)\n",
    "result=conn.execute(s).fetchall()\n",
    "print(result)"
   ]
  },
  {
   "cell_type": "markdown",
   "id": "05602941",
   "metadata": {},
   "source": [
    "### 1-3. Записи набора данных imdb.csv содержат информацию о фильмах. Атрибут Genres каждой записи содержит перечень жанров конкретного фильма. Атрибут Runtime (Minutes) содержит длительность фильма. Подсчитайте общую продолжительность фильмов в жанре Drama."
   ]
  },
  {
   "cell_type": "code",
   "execution_count": 4,
   "id": "25e1b79c",
   "metadata": {},
   "outputs": [
    {
     "data": {
      "text/plain": [
       "59834"
      ]
     },
     "execution_count": 4,
     "metadata": {},
     "output_type": "execute_result"
    }
   ],
   "source": [
    "df = pd.read_csv('./Data/imdb.csv')\n",
    "p = df[df['Genre'].str.contains('Drama')]\n",
    "p['Runtime (Minutes)'].sum()"
   ]
  }
 ],
 "metadata": {
  "kernelspec": {
   "display_name": "Python 3",
   "language": "python",
   "name": "python3"
  },
  "language_info": {
   "codemirror_mode": {
    "name": "ipython",
    "version": 3
   },
   "file_extension": ".py",
   "mimetype": "text/x-python",
   "name": "python",
   "nbconvert_exporter": "python",
   "pygments_lexer": "ipython3",
   "version": "3.8.8"
  }
 },
 "nbformat": 4,
 "nbformat_minor": 5
}
