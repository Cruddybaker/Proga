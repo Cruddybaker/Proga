{
 "cells": [
  {
   "cell_type": "code",
   "execution_count": 1,
   "id": "23411937",
   "metadata": {},
   "outputs": [],
   "source": [
    "from sqlalchemy import *\n",
    "from sqlalchemy.sql import *\n",
    "\n",
    "engine = create_engine('sqlite:///Data/Chinook_Sqlite.sqlite')\n",
    "metadata = MetaData()\n",
    "metadata.reflect(bind=engine)\n",
    "conn=engine.connect()\n",
    "\n",
    "InvoiceLine=Table(\"InvoiceLine\", metadata, autoload=True, autoload_with=\"engine\")\n",
    "MediaType=Table(\"MediaType\", metadata, autoload=True, autoload_with=\"engine\")\n",
    "Track=Table(\"Track\", metadata, autoload=True, autoload_with=\"engine\")\n",
    "Invoice=Table(\"Invoice\", metadata, autoload=True, autoload_with=\"engine\")\n",
    "Customer=Table(\"Customer\", metadata, autoload=True, autoload_with=\"engine\")\n",
    "\n",
    "import pandas as pd\n",
    "df=pd.read_csv('./Data/imdb.csv')"
   ]
  },
  {
   "cell_type": "markdown",
   "id": "b935e95c",
   "metadata": {},
   "source": [
    "### Преобразование вывода и встроенные функции языка SQL. Числовые, символьные и строковые константы. Символьная операция конкатенации строк.\n",
    "\n",
    "В SQL реализованы операторы преобразования данных и встроенные функции, предназначенные для работы со значениями столбцов и/или \n",
    "константами в выражениях. Использование этих операторов допустимо в запросах везде, где допустимы выражения.\n",
    "В SQL имеется пять встроенных функций: COUNT, SUM, AVG, MAX и MIN. Они выполняют различные действия над результатами оператора\n",
    "SELECT. Функция COUNT работает вне зависимости от типа данных столбца, а функции SUM, AVG, МАХ и MIN оперируют только числовыми \n",
    "столбцами (Integer, Numeric и т. д.).\n",
    "Функции преобразования символов в строке\n",
    "• LOWER\n",
    "• UPPER \n",
    "• INITCAP \n",
    "Если в запросе вместо спецификации столбца SQL обнаруживает число, то оно интерпретируется как числовая константа. \n",
    "Символьные константы должны указываться в одинарных кавычках. \n",
    "Строковая константа в SQL — это обычная последовательность символов, заключённая в апострофы\n",
    "Concat() - эта функция возвращает строку, возникающую в результате объединения двух или более строковых значений в сквозной форме.\n"
   ]
  },
  {
   "cell_type": "markdown",
   "id": "558f91d8",
   "metadata": {},
   "source": [
    "### С помощью библиотеки SQLAlchemy создайте объекты таблиц базы данных Chinook. В таблице Invoice содержится информация о заказах, в таблице Customer - о клиентах. Составьте запрос, показывающий, какова суммарная стоимость произведений, заказанных клиентами из Франции (France)."
   ]
  },
  {
   "cell_type": "code",
   "execution_count": 3,
   "id": "1ec04c06",
   "metadata": {},
   "outputs": [
    {
     "data": {
      "text/plain": [
       "[(Decimal('195.10'), 'France')]"
      ]
     },
     "execution_count": 3,
     "metadata": {},
     "output_type": "execute_result"
    }
   ],
   "source": [
    "C = Customer.alias('C')\n",
    "I = Invoice.alias('I')\n",
    "\n",
    "s = select(func.sum(I.c.Total), C.c.Country).where(and_(\n",
    "    C.c.Country == 'France',\n",
    "    C.c.CustomerId == I.c.CustomerId))\n",
    "result = conn.execute(s).fetchall()\n",
    "result"
   ]
  },
  {
   "cell_type": "markdown",
   "id": "b44a5547",
   "metadata": {},
   "source": [
    "### Записи набора данных imdb.csv содержат информацию о фильмах. Атрибут Actors каждой записи содержит перечень актёров конкретного фильма. Атрибут Rating содержит значение рейтинга фильма. Подсчитайте среднее значение рейтнга фильмов, в которых снимался акте"
   ]
  },
  {
   "cell_type": "code",
   "execution_count": 4,
   "id": "635e8732",
   "metadata": {},
   "outputs": [
    {
     "data": {
      "text/plain": [
       "6.7700000000000005"
      ]
     },
     "execution_count": 4,
     "metadata": {},
     "output_type": "execute_result"
    }
   ],
   "source": [
    "# Преподователь не указал какой именно актер, поэтому беру Will Smith\n",
    "\n",
    "import pandas as pd\n",
    "df=pd.read_csv('./Data/imdb.csv')\n",
    "df[df['Actors'].str.contains('Will Smith')]['Rating'].mean()"
   ]
  }
 ],
 "metadata": {
  "kernelspec": {
   "display_name": "Python 3",
   "language": "python",
   "name": "python3"
  },
  "language_info": {
   "codemirror_mode": {
    "name": "ipython",
    "version": 3
   },
   "file_extension": ".py",
   "mimetype": "text/x-python",
   "name": "python",
   "nbconvert_exporter": "python",
   "pygments_lexer": "ipython3",
   "version": "3.8.8"
  }
 },
 "nbformat": 4,
 "nbformat_minor": 5
}
