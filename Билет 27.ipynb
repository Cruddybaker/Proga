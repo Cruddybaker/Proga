{
 "cells": [
  {
   "cell_type": "code",
   "execution_count": 2,
   "id": "f7e4466b",
   "metadata": {},
   "outputs": [
    {
     "name": "stdout",
     "output_type": "stream",
     "text": [
      "dict_keys(['Album', 'Artist', 'Customer', 'Employee', 'Genre', 'Invoice', 'InvoiceLine', 'Track', 'MediaType', 'Playlist', 'PlaylistTrack'])\n"
     ]
    }
   ],
   "source": [
    "from sqlalchemy import *\n",
    "from sqlalchemy.sql import *\n",
    "\n",
    "import pandas\n",
    "from matplotlib import pyplot as plt\n",
    "\n",
    "engine = create_engine('sqlite:///Data/Chinook_Sqlite.sqlite')\n",
    "metadata = MetaData()\n",
    "metadata.reflect(bind=engine)\n",
    "conn=engine.connect()\n",
    "\n",
    "Album=Table(\"Album\", metadata, autoload=True, autoload_with=\"engine\")\n",
    "MediaType=Table(\"MediaType\", metadata, autoload=True, autoload_with=\"engine\")\n",
    "Artist=Table(\"Artist\", metadata, autoload=True, autoload_with=\"engine\")\n",
    "Customer=Table(\"Customer\", metadata, autoload=True, autoload_with=\"engine\")\n",
    "Employee=Table(\"Employee\", metadata, autoload=True, autoload_with=\"engine\")\n",
    "Track=Table(\"Track\", metadata, autoload=True, autoload_with=\"engine\")\n",
    "Genre=Table(\"Genre\", metadata, autoload=True, autoload_with=\"engine\")\n",
    "Invoice=Table(\"Invoice\", metadata, autoload=True, autoload_with=\"engine\")\n",
    "InvoiceLine=Table(\"InvoiceLine\", metadata, autoload=True, autoload_with=\"engine\")\n",
    "Playlist=Table(\"Playlist\", metadata, autoload=True, autoload_with=\"engine\")\n",
    "PlaylistTrack=Table(\"PlaylistTrack\", metadata, autoload=True, autoload_with=\"engine\")\n",
    "A = Album.alias('A')\n",
    "M = MediaType.alias('M')\n",
    "Ar = Artist.alias('Ar')\n",
    "C = Customer.alias('C')\n",
    "E = Employee.alias('E')\n",
    "T = Track.alias('T')\n",
    "G = Genre.alias('G')\n",
    "I = Invoice.alias('I')\n",
    "IL = InvoiceLine.alias('IL')\n",
    "P = Playlist.alias('P')\n",
    "PT = PlaylistTrack.alias('PT')\n",
    "\n",
    "print(metadata.tables.keys())\n",
    "\n",
    "import pandas as pd\n",
    "df=pd.read_csv('./Data/imdb.csv')"
   ]
  },
  {
   "cell_type": "markdown",
   "id": "60c44099",
   "metadata": {},
   "source": [
    "#### №1. Формирование связанных подзапросов на языка SQL. Связывание таблиц с собственной копией. Связанные подзапросы в HAVING.\n",
    "\n",
    "Подзапрос называется **связанным** (correlated), если любые значения вложенного запроса зависят от внешнего запроса. В примере ниже показано использование связанного подзапроса:  \n",
    "```\n",
    "SELECT *  \n",
    "FROM Customers C  \n",
    "WHERE '1999-10-03' IN (  \n",
    "   SELECT odate  \n",
    "   FROM Orders O  \n",
    "   WHERE O.cnum = C.cnum  \n",
    "```\n",
    "В ряде приложений возникает необходимость одновременной обработки данных какой-либо таблицы и одной или нескольких ее копий, создаваемых на время выполнения запроса.  \n",
    "\n",
    "Например, при создании списков студентов (таблица Студенты) возможен повторный ввод данных о каком-либо студенте с присвоением ему второго номера зачетной книжки. Для выявления таких ошибок можно соединить таблицу Студенты с ее временной копией, установив в WHERE фразе равенство значений всех одноименных столбцов этих таблиц кроме столбцов с номером зачетной книжки (для последних надо установить условие неравенства значений).  \n",
    "\n",
    "**Временную копию таблицы** можно сформировать, указав имя псевдонима за именем таблицы во фразе FROM. Так, с помощью фразы\n",
    "```\n",
    "FROM Блюда X, Блюда Y, Блюда Z\n",
    "```\n",
    "будут сформированы три копии таблицы Блюда с именами X, Y и Z.\n",
    "\n",
    "В качестве примера соединения таблицы с ней самой сформируем запрос на вывод таких пар блюд таблицы Блюда, в которых совпадает основа, а название первого блюда пары меньше (по алфавиту), чем номер второго блюда пары. Для этого можно создать запрос с одной копией таблицы Блюда (Копия):\n",
    "```\n",
    "SELECT\tПервая.Блюдо, Вторая.Блюдо, Основа\n",
    "FROM\tБлюда Первая, Блюда Вторая\n",
    "WHERE\tПервая.Основа = Вторая.Основа\n",
    "AND\tПервая.Блюдо < Вторая.Блюдо;\n",
    "```\n",
    "Получим результат вида\n",
    "```\n",
    "Первая.Блюдо\t    Вторая.Блюдо\t    Основа\n",
    "Морковь с рисом\t Помидоры с луком\tОвощи\n",
    "Морковь с рисом\t Салат летний\t    Овощи\n",
    "Морковь с рисом\t Салат витаминный\tОвощи\n",
    "Помидоры с луком\tСалат витаминный\tОвощи\n",
    "Помидоры с луком\tСалат летний\t    Овощи\n",
    "Салат витаминный\tСалат летний\t    Овощи\n",
    "Бастурма\t        Бефстроганов\t    Мясо\n",
    "Бастурма\t        Мясо с гарниром\t Мясо\n",
    "Бефстроганов\t    Мясо с гарниром\t Мясо\n",
    "```"
   ]
  },
  {
   "cell_type": "markdown",
   "id": "2e9f03f8",
   "metadata": {},
   "source": [
    "#### №2. С помощью библиотеки SQLAlchemy создайте объекты таблиц базы данных Chinook. Создайте запрос, который выводит на печать название трэка (Track), название альбома (Album), формат файла (MediaType), жанр (Genre) в жанре \"Opera\"."
   ]
  },
  {
   "cell_type": "code",
   "execution_count": 3,
   "id": "9b3dc9a4",
   "metadata": {},
   "outputs": [
    {
     "data": {
      "text/plain": [
       "[('Die Zauberflöte, K.620: \"Der Hölle Rache Kocht in Meinem Herze\"', 'Mozart Gala: Famous Arias', 'Protected AAC audio file', 'Opera')]"
      ]
     },
     "execution_count": 3,
     "metadata": {},
     "output_type": "execute_result"
    }
   ],
   "source": [
    "s = select(T.c.Name, A.c.Title, M.c.Name, G.c.Name).where(and_(\n",
    "    T.c.MediaTypeId == M.c.MediaTypeId,\n",
    "    T.c.GenreId == G.c.GenreId, \n",
    "    T.c.AlbumId == A.c.AlbumId, \n",
    "    G.c.Name == 'Opera'))\n",
    "result = conn.execute(s).fetchall()\n",
    "result"
   ]
  },
  {
   "cell_type": "markdown",
   "id": "dbb5f867",
   "metadata": {},
   "source": [
    "#### №3. Записи набора данных imdb.csv содержат информацию о фильмах. Атрибут Runtime (Minutes) каждой записи содержит длительность конкретного фильма. Постройте гистограмму распределения длительности фильмов."
   ]
  },
  {
   "cell_type": "code",
   "execution_count": 4,
   "id": "01a43824",
   "metadata": {},
   "outputs": [
    {
     "data": {
      "text/plain": [
       "Text(0, 0.5, 'Count')"
      ]
     },
     "execution_count": 4,
     "metadata": {},
     "output_type": "execute_result"
    },
    {
     "data": {
      "image/png": "[encoded data removed]",
      "text/plain": [
       "<Figure size 288x432 with 1 Axes>"
      ]
     },
     "metadata": {
      "needs_background": "light"
     },
     "output_type": "display_data"
    }
   ],
   "source": [
    "fig1, ax1 = plt.subplots(figsize = (4, 6))\n",
    "ax1.hist(df['Runtime (Minutes)'])\n",
    "ax1.grid()\n",
    "ax1.set_xlabel('Runtime')\n",
    "ax1.set_ylabel('Count')"
   ]
  }
 ],
 "metadata": {
  "kernelspec": {
   "display_name": "Python 3",
   "language": "python",
   "name": "python3"
  },
  "language_info": {
   "codemirror_mode": {
    "name": "ipython",
    "version": 3
   },
   "file_extension": ".py",
   "mimetype": "text/x-python",
   "name": "python",
   "nbconvert_exporter": "python",
   "pygments_lexer": "ipython3",
   "version": "3.8.8"
  }
 },
 "nbformat": 4,
 "nbformat_minor": 5
}
