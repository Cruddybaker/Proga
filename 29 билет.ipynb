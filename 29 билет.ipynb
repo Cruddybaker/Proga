{
 "cells": [
  {
   "cell_type": "markdown",
   "id": "b892b426",
   "metadata": {},
   "source": [
    "### ЭКЗАМЕНАЦИОННЫЙ БИЛЕТ № 29\n",
    "\n",
    "1 вопрос (20 баллов)\n",
    "Соединение таблиц с помощью оператора JOIN. Внутреннее и внешнее соединение таблиц."
   ]
  },
  {
   "cell_type": "markdown",
   "id": "1df648f9",
   "metadata": {},
   "source": [
    "Если в операторе SELECT после ключевого слова FROM указывается не одна, а две таблицы, то в результате выполнения запроса, в котором отсутствует предложение WHERE или JOIN, каждая строка одной таблицы будет соединена с каждой строкой второй таблицы. Соединение таблиц имеет смысл тогда, когда соединяются не все строки исходных таблиц, а только те, которые интересуют пользователя. Такое ограничение может быть осуществлено с помощью использования в запросе соответствующего условия в предложении JOIN. Таким образом, SQL позволяет выводить информацию из нескольких таблиц, связывая их по значениям определенных полей. Это соединение считается внутренним (INNER) Это можно сделать с помощью следующего запроса:\n",
    "\n",
    "SELECT STUDENT.SURNAME, UNIVERSITY.UNIV_NAME, STUDENT.CITY\n",
    "FROM STUDENT INNER JOIN UNIVERSITY\n",
    "ON STUDENT.CITY = UNIVERSITY.CITY;\n",
    "\n",
    "В Пайтон для выполнения операции соединения таблиц мы будем использовать функции join() и select_from().\n",
    "\n",
    "Как отмечалось ранее, при использовании внутреннего (INNER) соединения таблиц соединяются только те их строки, в которых совпадают значения полей, задаваемые в предложении WHERE или JOIN запроса. Однако во многих случаях это может привести к нежелательной потере информации. \n",
    "Если нам необходимо вывести также отсутствующие строки, то мы используем LEFT/RIGHT OUTER JOIN\n",
    "\n",
    "SELECT SURNAME, MARK\n",
    "FROM STUDENT LEFT OUTER JOIN EXAM_MARKS\n",
    "ON STUDENT.STUDENT_ID = EXAM_MARKS.STUDENT_ID;\n",
    "\n",
    "При использовании левого соединения расширение выводимой таблицы осуществляется за счет записей входной таблицы, имя которой указано слева от оператора JOIN.\n",
    "\n",
    "На языке программирования Python внешнее соединение реализуется с помощью функции\n",
    "\n",
    "function sqlalchemy.sql.expression.outerjoin(left, right, onclause=None, full=False)\n",
    "\n",
    "В таком случае данные левой таблицы - берутся полностью, а пустые значения второй таблицы заполняются NaN"
   ]
  },
  {
   "cell_type": "markdown",
   "id": "423f528c",
   "metadata": {},
   "source": [
    "### 2. С помощью библиотеки SQLAlchemy создайте объекты таблиц базы данных Chinook. Создайте запрос, который показывает имена (FirstName), фамилии, должность работников (Employee), имена которых НЕ встречаются среди имен клиентов (Customer). Создайте этот запрос с помощью подзапроса."
   ]
  },
  {
   "cell_type": "code",
   "execution_count": 1,
   "id": "00a4a669",
   "metadata": {},
   "outputs": [
    {
     "name": "stdout",
     "output_type": "stream",
     "text": [
      "dict_keys(['Album', 'Artist', 'Customer', 'Employee', 'Genre', 'Invoice', 'InvoiceLine', 'Track', 'MediaType', 'Playlist', 'PlaylistTrack'])\n"
     ]
    }
   ],
   "source": [
    "from sqlalchemy import MetaData, Table, create_engine, select, and_, or_, not_, cast\n",
    "from sqlalchemy import String, Numeric, Float, Integer\n",
    "from sqlalchemy.sql import func, alias, desc, exists\n",
    "\n",
    "import pandas as pd\n",
    "from matplotlib import pyplot\n",
    "\n",
    "engine = create_engine('sqlite:///Data/Chinook_Sqlite.sqlite')\n",
    "metadata = MetaData()\n",
    "metadata.reflect(bind=engine)\n",
    "conn=engine.connect()\n",
    "\n",
    "Album=Table(\"Album\", metadata, autoload=True, autoload_with=\"engine\")\n",
    "Artist=Table(\"Artist\", metadata, autoload=True, autoload_with=\"engine\")\n",
    "Customer=Table(\"Customer\", metadata, autoload=True, autoload_with=\"engine\")\n",
    "Employee=Table(\"Employee\", metadata, autoload=True, autoload_with=\"engine\")\n",
    "Track=Table(\"Track\", metadata, autoload=True, autoload_with=\"engine\")\n",
    "Genre=Table(\"Genre\", metadata, autoload=True, autoload_with=\"engine\")\n",
    "Invoice=Table(\"Invoice\", metadata, autoload=True, autoload_with=\"engine\")\n",
    "InvoiceLine=Table(\"InvoiceLine\", metadata, autoload=True, autoload_with=\"engine\")\n",
    "Playlist=Table(\"Playlist\", metadata, autoload=True, autoload_with=\"engine\")\n",
    "PlaylistTrack=Table(\"PlaylistTrack\", metadata, autoload=True, autoload_with=\"engine\")\n",
    "MediaType=Table(\"MediaType\",metadata, autoload=True, autoload_with=\"engine\")\n",
    "\n",
    "print(metadata.tables.keys())"
   ]
  },
  {
   "cell_type": "code",
   "execution_count": 2,
   "id": "05ac7f1e",
   "metadata": {},
   "outputs": [
    {
     "data": {
      "text/plain": [
       "[('Andrew', 'Adams', 'General Manager'),\n",
       " ('Nancy', 'Edwards', 'Sales Manager'),\n",
       " ('Jane', 'Peacock', 'Sales Support Agent'),\n",
       " ('Margaret', 'Park', 'Sales Support Agent'),\n",
       " ('Michael', 'Mitchell', 'IT Manager'),\n",
       " ('Laura', 'Callahan', 'IT Staff')]"
      ]
     },
     "execution_count": 2,
     "metadata": {},
     "output_type": "execute_result"
    }
   ],
   "source": [
    "E = Employee.alias('E')\n",
    "C = Customer.alias('C')\n",
    "s = select(E.c.FirstName, E.c.LastName, E.c.Title)\n",
    "ex=exists().where(E.c.FirstName==C.c.FirstName)\n",
    "s=s.where(~ex)\n",
    "result=conn.execute(s).fetchall()\n",
    "result"
   ]
  },
  {
   "cell_type": "code",
   "execution_count": 3,
   "id": "e56a8f2c",
   "metadata": {},
   "outputs": [
    {
     "data": {
      "text/plain": [
       "Year\n",
       "2006    269289.954545\n",
       "2007    244331.037736\n",
       "2008    275505.384615\n",
       "2009    255780.647059\n",
       "2010    252782.316667\n",
       "2011    240790.301587\n",
       "2012    285226.093750\n",
       "2013    219049.648352\n",
       "2014    203930.224490\n",
       "2015    115726.220472\n",
       "2016     48591.754209\n",
       "Name: Votes, dtype: float64"
      ]
     },
     "execution_count": 3,
     "metadata": {},
     "output_type": "execute_result"
    }
   ],
   "source": [
    "df=pd.read_csv('./Data/imdb.csv')\n",
    "df.groupby('Year').Votes.mean()"
   ]
  }
 ],
 "metadata": {
  "kernelspec": {
   "display_name": "Python 3",
   "language": "python",
   "name": "python3"
  },
  "language_info": {
   "codemirror_mode": {
    "name": "ipython",
    "version": 3
   },
   "file_extension": ".py",
   "mimetype": "text/x-python",
   "name": "python",
   "nbconvert_exporter": "python",
   "pygments_lexer": "ipython3",
   "version": "3.8.8"
  }
 },
 "nbformat": 4,
 "nbformat_minor": 5
}
