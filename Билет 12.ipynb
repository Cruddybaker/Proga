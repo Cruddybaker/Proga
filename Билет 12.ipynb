{
 "cells": [
  {
   "cell_type": "code",
   "execution_count": 5,
   "id": "a39391bc",
   "metadata": {},
   "outputs": [],
   "source": [
    "from sqlalchemy import *\n",
    "from sqlalchemy.sql import *\n",
    "\n",
    "engine = create_engine('sqlite:///Data/Chinook_Sqlite.sqlite')\n",
    "metadata = MetaData()\n",
    "metadata.reflect(bind=engine)\n",
    "conn=engine.connect()\n",
    "\n",
    "InvoiceLine=Table(\"InvoiceLine\", metadata, autoload=True, autoload_with=\"engine\")\n",
    "MediaType=Table(\"MediaType\", metadata, autoload=True, autoload_with=\"engine\")\n",
    "Track=Table(\"Track\", metadata, autoload=True, autoload_with=\"engine\")\n",
    "Invoice=Table(\"Invoice\", metadata, autoload=True, autoload_with=\"engine\")\n",
    "Customer=Table(\"Customer\", metadata, autoload=True, autoload_with=\"engine\")\n",
    "\n",
    "import pandas as pd\n",
    "df=pd.read_csv('./Data/imdb.csv')"
   ]
  },
  {
   "cell_type": "markdown",
   "id": "66b1d757",
   "metadata": {},
   "source": [
    "### Использование в SQL-запросах группировки и статистических функций. Упорядочивание результатов запросов.\n",
    "\n",
    "Создание групп (GROUP BY)\n",
    "Группы создаются с помощью предложения GROUP BY оператора SELECT\n",
    "\n",
    "Фильтрующие группы (HAVING)\n",
    "Так же, как мы фильтровали строки в таблице, мы можем осуществлять фильтрацию по сгруппированным данным. Для этого в SQL существует оператор HAVING.\n",
    "\n",
    "\n",
    "Для выполнения сортировки в строку запроса нужно добавить команду ORDER BY. После этой команды указывается поле, по которому производится сортировка.\n",
    "\n",
    "\n",
    "Как и при обычной выборке данных, мы можем сортировать группы после группировки оператором HAVING. Для этого мы можем использовать оператор ORDER BY."
   ]
  },
  {
   "cell_type": "markdown",
   "id": "476ea7de",
   "metadata": {},
   "source": [
    "### С помощью библиотеки SQLAlchemy создайте объекты таблиц базы данных Chinook. В таблице Invoice содержится информация о заказах, в таблице Customer - о клиентах. Составьте запрос, показывающий число заказов для каждой страны клиента. Клиенты из какой страны сделали наибольшее число заказов?"
   ]
  },
  {
   "cell_type": "code",
   "execution_count": 3,
   "id": "130502c4",
   "metadata": {},
   "outputs": [
    {
     "name": "stdout",
     "output_type": "stream",
     "text": [
      "[(7, 'Argentina'), (7, 'Australia'), (7, 'Austria'), (7, 'Belgium'), (35, 'Brazil'), (56, 'Canada'), (7, 'Chile'), (14, 'Czech Republic'), (7, 'Denmark'), (7, 'Finland'), (35, 'France'), (28, 'Germany'), (7, 'Hungary'), (13, 'India'), (7, 'Ireland'), (7, 'Italy'), (7, 'Netherlands'), (7, 'Norway'), (7, 'Poland'), (14, 'Portugal'), (7, 'Spain'), (7, 'Sweden'), (91, 'USA'), (21, 'United Kingdom')]\n"
     ]
    },
    {
     "data": {
      "text/plain": [
       "0     91\n",
       "1    USA\n",
       "Name: 22, dtype: object"
      ]
     },
     "execution_count": 3,
     "metadata": {},
     "output_type": "execute_result"
    }
   ],
   "source": [
    "C = Customer.alias('C')\n",
    "I = Invoice.alias('I')\n",
    "\n",
    "s = select(func.count(I.c.Total), I.c.BillingCountry).where(C.c.CustomerId == I.c.CustomerId).group_by(C.c.Country)\n",
    "\n",
    "result = conn.execute(s).fetchall()\n",
    "print(result)\n",
    "df=pd.DataFrame(result)\n",
    "df.loc[df[0].idxmax()]"
   ]
  },
  {
   "cell_type": "code",
   "execution_count": 6,
   "id": "d559298f",
   "metadata": {},
   "outputs": [
    {
     "data": {
      "text/plain": [
       "{'Action',\n",
       " 'Adventure',\n",
       " 'Animation',\n",
       " 'Biography',\n",
       " 'Comedy',\n",
       " 'Crime',\n",
       " 'Drama',\n",
       " 'Family',\n",
       " 'Fantasy',\n",
       " 'History',\n",
       " 'Horror',\n",
       " 'Music',\n",
       " 'Musical',\n",
       " 'Mystery',\n",
       " 'Romance',\n",
       " 'Sci-Fi',\n",
       " 'Sport',\n",
       " 'Thriller',\n",
       " 'War',\n",
       " 'Western'}"
      ]
     },
     "execution_count": 6,
     "metadata": {},
     "output_type": "execute_result"
    }
   ],
   "source": [
    "result = set(i.strip() for i in ','.join(df['Genre']).split(','))\n",
    "result"
   ]
  }
 ],
 "metadata": {
  "kernelspec": {
   "display_name": "Python 3",
   "language": "python",
   "name": "python3"
  },
  "language_info": {
   "codemirror_mode": {
    "name": "ipython",
    "version": 3
   },
   "file_extension": ".py",
   "mimetype": "text/x-python",
   "name": "python",
   "nbconvert_exporter": "python",
   "pygments_lexer": "ipython3",
   "version": "3.8.8"
  }
 },
 "nbformat": 4,
 "nbformat_minor": 5
}
