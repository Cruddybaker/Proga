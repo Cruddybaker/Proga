{
 "cells": [
  {
   "cell_type": "markdown",
   "metadata": {},
   "source": [
    "<img src=./Img/sci.png>\n",
    "\n",
    "\n",
    "    \n",
    "<p style=\"font-size:150%;text-align:center\">Финансовый университет</p>\n",
    "\n",
    "\n",
    "<p style=\"font-size:200%;text-align:center\">Программирование на языках Python и SQL\n",
    "\n",
    "\n",
    "<p style=\"font-size:150%;text-align:center\">Контрольная работа</p>\n",
    "    \n",
    "\n",
    "    \n",
    "Семинар<br>\n",
    "13 декабря 2021 года<br>\n",
    "Группы: ФРФТ20-2, ФРФТ20-1\n",
    "\n",
    "Преподаватель: Смирнов Михаил Викторович, доцент Департамента анализа данных и машинного обучения Финансового университета при Правительстве Российской Федерации. mvsmirnov@fa.ru\n",
    "\n",
    "При подготовке материалов учебных занятий использовались источники\n",
    "- Essential SQLAlchemy: Mapping Python to Databases 2nd Edition. Jason Myers, Rick Copeland. O'Reilly Media, Inc. 2015.\n",
    "- <a href=\"http://insideairbnb.com/get-the-data.html\">Inside Airbnb</a>\n",
    "\n",
    "# Проект Антверпен\n",
    "\n",
    "<img src=\"./Img/Antwerp_1.png\">\n",
    "\n",
    "# Задания\n",
    "\n",
    "## 1. Изучите структуру базы данных размещения туристов в Антверпене\n",
    "\n",
    "<img src=\"./Img/Antwerpen_4.png\">\n",
    "\n",
    "<img src=./Img/Schema.png>"
   ]
  },
  {
   "cell_type": "markdown",
   "metadata": {},
   "source": [
    "## 2. Создайте отображение базы данных\n",
    "\n",
    "<img src=\"./Img/Antwerpen_2.png\">"
   ]
  },
  {
   "cell_type": "code",
   "execution_count": 1,
   "metadata": {},
   "outputs": [],
   "source": [
    "# Ваш код здесь\n",
    "\n",
    "from sqlalchemy import MetaData, Table, create_engine, select, and_, or_, not_, desc\n",
    "from sqlalchemy.sql import func, alias, exists, join, outerjoin, distinct\n",
    "from pprint import pprint\n",
    "engine = create_engine('sqlite:///Data/Antwerp.db')\n",
    "metadata = MetaData()\n",
    "metadata.reflect(bind=engine)\n",
    "conn=engine.connect()\n",
    "metadata.tables.keys()\n",
    "\n",
    "users=Table(\"users\", metadata, autoload=True, autoload_with=\"engine\")\n",
    "orders=Table(\"orders\", metadata, autoload=True, autoload_with=\"engine\")\n",
    "line_items=Table(\"line_items\", metadata, autoload=True, autoload_with=\"engine\")\n",
    "neighbourhoods=Table(\"neighbourhoods\", metadata, autoload=True, autoload_with=\"engine\")\n",
    "listings=Table(\"listings\", metadata, autoload=True, autoload_with=\"engine\")\n",
    "hosts=Table(\"hosts\", metadata, autolad=True, autolad_with=\"engine\")\n",
    "room_types=Table(\"room_types\", metadata, autoload=True, autoload_with=\"engine\")"
   ]
  },
  {
   "cell_type": "markdown",
   "metadata": {},
   "source": [
    "## 3. Выполните SQL-запросы\n",
    "\n",
    "<img src=\"./Img/Antwerpen_6b.png\">\n",
    "\n",
    "<p style=\"font-size:120%;color:green\">3.1. Выполните SQL-запросы к базе данных <i>Antwerp.db</i> с помощью SQLAlchemy</p>\n",
    "\n",
    "1. Распечатать названия районов и количество объектов в каждом районе. Упорядочить результат по убыванию числа объектов.\n",
    "2. Распечатать название района, имя владельца, название объекта для всех объектов размещения в районах *Dam* и *Donk*. Отсортировать результат по названию района и в каждом районе по имени владельца.\n",
    "3. Распечатать имя владельца и число объектов, которым он владеет, для всех владельцев, которые владеют семью и более объектами. Результат отсортировать по числу объектов в порядке убывания.\n",
    "4. Сколько комнат каждого типа в районах *Centraal Station* и *Harmonie?*. Результат должен содержать названия типов комнат и названия районов. Отсортировать результат по названию района.\n",
    "5. Комнатами какого типа владеет *Mari?*. Распечатать число комнат каждого типа.\n",
    "6. Распечатать все объекты, принадлежащие владельцам *Mari* и *Marie*. Выполнить этот запрос с помощью подзапроса и без использования JOIN.  \n",
    "7. Найти объект размещения максимальной цены.\n",
    "8. Найти среднюю цену объекта в районе *Hoogte*.\n",
    "9. Найти пользователей, не сделавших ни одного заказа.\n",
    "\n",
    "\n",
    "<p style=\"font-size:120%;color:green\">3.2. Выполните SQL-запрос с помощью DB Browser for SQLite.</p>\n",
    "\n",
    "10. Распечатать названия и цены объектов в районе *Hoogte* с ценой ниже средней цены по району *Hoogte*.\n",
    "11. Распечатать название объекта, имя владельца, идентификатор района, название района и цену объекта, ограничившись только объектами, находящимися в таких районах, в которых менее 4 объектов. Результат отсортировать по названию района."
   ]
  },
  {
   "cell_type": "code",
   "execution_count": 2,
   "metadata": {},
   "outputs": [
    {
     "data": {
      "text/plain": [
       "[('Historisch Centrum', 259),\n",
       " ('Theaterbuurt-Meir', 148),\n",
       " ('Amandus - Atheneum', 127),\n",
       " ('Centraal Station', 109),\n",
       " ('Stadspark', 105),\n",
       " ('Zuid', 98),\n",
       " ('Universiteitsbuurt', 83),\n",
       " ('Sint-Andries', 71),\n",
       " ('Borgerhout Intra Muros Zuid', 67),\n",
       " ('Brederode', 60),\n",
       " ('Borgerhout Intra Muros Noord', 59),\n",
       " ('Eilandje', 49),\n",
       " ('Stuivenberg', 48),\n",
       " ('Harmonie', 46),\n",
       " ('Haringrode', 33),\n",
       " ('Oud - Berchem', 28),\n",
       " ('Markgrave', 27),\n",
       " ('Zurenborg', 24),\n",
       " ('Kiel', 24),\n",
       " ('Deurne Zuid West', 24),\n",
       " ('Borgerhout Extra Muros', 21),\n",
       " ('Linkeroever', 19),\n",
       " ('Groenenhoek', 19),\n",
       " ('Nieuw - Kwartier Oost', 13),\n",
       " ('Deurne Zuid Oost', 13),\n",
       " ('Middelheim', 12),\n",
       " ('Hoogte', 12),\n",
       " ('Oud - Merksem', 10),\n",
       " ('Oosterveld - Elsdonk', 10),\n",
       " ('Deurne Noord', 9),\n",
       " ('Deurne Dorp - Gallifort', 9),\n",
       " ('Wilrijk Centrum', 8),\n",
       " ('Valaar', 8),\n",
       " ('Hoboken - Noord', 8),\n",
       " ('Hoboken - Centrum', 8),\n",
       " ('Deurne Oost', 6),\n",
       " ('Dam', 6),\n",
       " ('Nieuw - Zuid', 5),\n",
       " ('Nieuw - Kwartier West', 5),\n",
       " ('Ekeren Centrum', 4),\n",
       " ('Tentoonstellingswijk', 3),\n",
       " ('Tuinwijk', 2),\n",
       " ('Polder', 2),\n",
       " ('Merksem - Heide', 2),\n",
       " ('Mariaburg', 2),\n",
       " ('Lambrechtshoeken', 2),\n",
       " ('Hoboken - Zuidoost', 2),\n",
       " ('Donk', 2),\n",
       " ('Petroleum - Zuid', 1),\n",
       " ('Nieuwdreef', 1),\n",
       " ('Neerland', 1),\n",
       " ('Lillo', 1),\n",
       " ('Leugenberg', 1)]"
      ]
     },
     "execution_count": 2,
     "metadata": {},
     "output_type": "execute_result"
    }
   ],
   "source": [
    "#1 Распечатать названия районов и количество объектов в каждом районе. Упорядочить результат по убыванию числа объектов\n",
    "L = listings.alias(\"L\")\n",
    "N = neighbourhoods.alias(\"N\")\n",
    "\n",
    "j = join(L, N, N.c.neigh_id == L.c.neigh_id)\n",
    "\n",
    "s = select(N.c.neigh_name, func.count(L.c.listing_id)).group_by(N.c.neigh_name).order_by(func.count(L.c.listing_id).desc())\n",
    "s = s.select_from(j)\n",
    "\n",
    "result = conn.execute(s).fetchall()\n",
    "result"
   ]
  },
  {
   "cell_type": "code",
   "execution_count": 3,
   "metadata": {},
   "outputs": [
    {
     "data": {
      "text/plain": [
       "[('Dam', 'Cosy luxury with perfect location in Antwerp', 'Bjorn'),\n",
       " ('Dam', 'The Kaoz: more than just a luxury loft in Antwerp!', 'Cain'),\n",
       " ('Dam', \"Spacious apartment at 'Den Dam' for two\", 'Daan'),\n",
       " ('Dam', 'Big and light bedroom in our beautiful apartment', 'Laura'),\n",
       " ('Dam', 'Medieval bedroom in an authentic mansion', 'Pim'),\n",
       " ('Donk', 'Cozy Entire Apartment in Garden City Brasschaat', 'Jianli')]"
      ]
     },
     "execution_count": 3,
     "metadata": {},
     "output_type": "execute_result"
    }
   ],
   "source": [
    "#2 Распечатать название района, имя владельца, название объекта для всех объектов размещения в районах Dam и Donk. \n",
    "#Отсортировать результат по названию района и в каждом районе по имени владельца.\n",
    "\n",
    "j = join(listings, neighbourhoods, neighbourhoods.c.neigh_id == listings.c.neigh_id)\n",
    "j = j.join(hosts, listings.c.host_id == hosts.c.host_id)\n",
    "\n",
    "s = select(neighbourhoods.c.neigh_name, listings.c.listing_name, hosts.c.host_name).where(\n",
    "    or_(neighbourhoods.c.neigh_name == 'Dam', neighbourhoods.c.neigh_name == 'Donk')).group_by(neighbourhoods.c.neigh_name, hosts.c.host_name)\n",
    "s = s.select_from(j)\n",
    "\n",
    "result = conn.execute(s).fetchall()\n",
    "result"
   ]
  },
  {
   "cell_type": "code",
   "execution_count": 4,
   "metadata": {},
   "outputs": [
    {
     "data": {
      "text/plain": [
       "[(107750838, 'S.', 35),\n",
       " (317037207, 'Elisabeth', 33),\n",
       " (165436938, 'Elisabeth', 33),\n",
       " (60219699, 'Eugene', 24),\n",
       " (2792958, 'Alex', 21),\n",
       " (127787502, 'Olena', 19),\n",
       " (110993942, 'Rev', 16),\n",
       " (43247005, 'Rebecca', 15),\n",
       " (246552165, 'Amir', 13),\n",
       " (341953444, 'Nick', 12),\n",
       " (270964935, 'Liselore', 10),\n",
       " (228207262, 'Ann', 9),\n",
       " (15842352, 'Ina - RumpusRoom', 9),\n",
       " (277645495, 'Daily', 8),\n",
       " (264440567, 'Henry', 8),\n",
       " (244714583, 'Ani', 8),\n",
       " (182678477, 'Driss', 8),\n",
       " (103363284, 'Nathalie', 8),\n",
       " (232746364, 'Taskin', 7),\n",
       " (67322181, 'Eli', 7),\n",
       " (60756836, 'Ann', 7),\n",
       " (15780894, 'Simon', 7)]"
      ]
     },
     "execution_count": 4,
     "metadata": {},
     "output_type": "execute_result"
    }
   ],
   "source": [
    "#3.Распечатать имя владельца и число объектов, которым он владеет, для всех владельцев, которые владеют семью и более объектами. \n",
    "#Результат отсортировать по числу объектов в порядке убывания.\n",
    "\n",
    "H = hosts.alias('H')\n",
    "L = listings.alias('L')\n",
    "\n",
    "j = join(L, H, L.c.host_id == H.c.host_id)\n",
    "\n",
    "s = select(H.c.host_id, H.c.host_name, func.count(L.c.listing_id)).group_by(H.c.host_id).having(func.count(L.c.listing_id)>=7)\n",
    "s = s.order_by(func.count(L.c.listing_id).desc())\n",
    "s = s.select_from(j)\n",
    "\n",
    "result = conn.execute(s).fetchall()\n",
    "result"
   ]
  },
  {
   "cell_type": "code",
   "execution_count": 5,
   "metadata": {},
   "outputs": [
    {
     "data": {
      "text/plain": [
       "[('Centraal Station', 81, 'Entire home/apt'),\n",
       " ('Centraal Station', 7, 'Hotel room'),\n",
       " ('Centraal Station', 21, 'Private room'),\n",
       " ('Harmonie', 39, 'Entire home/apt'),\n",
       " ('Harmonie', 7, 'Private room')]"
      ]
     },
     "execution_count": 5,
     "metadata": {},
     "output_type": "execute_result"
    }
   ],
   "source": [
    "#4 Сколько комнат каждого типа в районах Centraal Station и Harmonie?. \n",
    "#Результат должен содержать названия типов комнат и названия районов. Отсортировать результат по названию района.\n",
    "\n",
    "R = room_types.alias('R')\n",
    "L = listings.alias('L')\n",
    "N = neighbourhoods.alias('N')\n",
    "\n",
    "j = join(L, N, N.c.neigh_id == L.c.neigh_id)\n",
    "j = j.join(R, R.c.room_type_id == L.c.room_type_id)\n",
    "\n",
    "s = select(N.c.neigh_name, func.count(L.c.room_type_id), R.c.room_type_name).group_by(N.c.neigh_name, L.c.room_type_id).having(\n",
    "    or_(N.c.neigh_name == 'Centraal Station', N.c.neigh_name == 'Harmonie')).order_by(N.c.neigh_name)\n",
    "s = s.select_from(j)\n",
    "\n",
    "result = conn.execute(s).fetchall()\n",
    "result"
   ]
  },
  {
   "cell_type": "code",
   "execution_count": 6,
   "metadata": {},
   "outputs": [
    {
     "data": {
      "text/plain": [
       "[('Entire home/apt', 2), ('Private room', 1)]"
      ]
     },
     "execution_count": 6,
     "metadata": {},
     "output_type": "execute_result"
    }
   ],
   "source": [
    "#5 Комнатами какого типа владеет Mari?. Распечатать число комнат каждого типа.\n",
    "\n",
    "R = room_types.alias('R')\n",
    "L = listings.alias('L')\n",
    "H = hosts.alias('H')\n",
    "\n",
    "j = join(L, H, L.c.host_id == H.c.host_id)\n",
    "j = j.join(R, R.c.room_type_id == L.c.room_type_id)\n",
    "\n",
    "subq = select(H.c.host_id).where(H.c.host_name == 'Mari').scalar_subquery()\n",
    "\n",
    "s = select(R.c.room_type_name, func.count(R.c.room_type_name)).where(H.c.host_id == subq).group_by(R.c.room_type_name)\n",
    "s = s.select_from(j)\n",
    "\n",
    "result = conn.execute(s).fetchall()\n",
    "result"
   ]
  },
  {
   "cell_type": "code",
   "execution_count": 7,
   "metadata": {},
   "outputs": [
    {
     "data": {
      "text/plain": [
       "[('A small place to sleep in the heart of Antwerp.',),\n",
       " ('Adorable happy positive vibes place',),\n",
       " ('An apartment in the heart of Antwerp',),\n",
       " ('An apartment in the heart of Antwerp (2)',),\n",
       " ('Frisse, ruime kamer op het trendy Zuid',),\n",
       " ('Romantic room with shower, bubble bath and soul!',),\n",
       " ('Sfeervol en zonnig appartement in oud Borgerhout',)]"
      ]
     },
     "execution_count": 7,
     "metadata": {},
     "output_type": "execute_result"
    }
   ],
   "source": [
    "#6.Распечатать все объекты, принадлежащие владельцам Mari и Marie. \n",
    "#Выполнить этот запрос с помощью подзапроса и без использования JOIN.\n",
    "H = hosts.alias(\"H\")\n",
    "L = listings.alias(\"L\")\n",
    "\n",
    "subq = select(H.c.host_id)\n",
    "subq = subq.where(and_ (H.c.host_id == L.c.host_id,(\n",
    "    or_(H.c.host_name == 'Marie',\n",
    "        H.c.host_name == 'Mari')))\n",
    ")\n",
    "subq = subq.group_by(H.c.host_id).scalar_subquery()\n",
    "\n",
    "s = select(L.c.listing_name)\n",
    "s = s.where(L.c.host_id==subq)\n",
    "s = s.group_by(L.c.listing_name)\n",
    "\n",
    "result=conn.execute(s).fetchall()\n",
    "result"
   ]
  },
  {
   "cell_type": "code",
   "execution_count": 8,
   "metadata": {},
   "outputs": [
    {
     "name": "stdout",
     "output_type": "stream",
     "text": [
      "[('Antique building in centre of Antwerp', 3200)]\n"
     ]
    }
   ],
   "source": [
    "#7.Найти объект размещения максимальной цены.\n",
    "L=listings.alias(\"L\")\n",
    "\n",
    "s=select(L.c.listing_name, func.max(L.c.price))\n",
    "\n",
    "result=conn.execute(s).fetchall()\n",
    "print(result)"
   ]
  },
  {
   "cell_type": "code",
   "execution_count": 9,
   "metadata": {},
   "outputs": [
    {
     "name": "stdout",
     "output_type": "stream",
     "text": [
      "[(65.41666666666667,)]\n"
     ]
    }
   ],
   "source": [
    "#8.Найти среднюю цену объекта в районе Hoogte\n",
    "N = neighbourhoods.alias('N')\n",
    "L = listings.alias(\"L\")\n",
    "\n",
    "j=join(L, N, L.c. neigh_id == N.c. neigh_id)\n",
    "\n",
    "s=select(func.avg(L.c.price)).where(N.c.neigh_name == 'Hoogte')\n",
    "s=s.select_from(j)\n",
    "\n",
    "result=conn.execute(s).fetchall()\n",
    "print(result)"
   ]
  },
  {
   "cell_type": "code",
   "execution_count": 10,
   "metadata": {},
   "outputs": [
    {
     "name": "stdout",
     "output_type": "stream",
     "text": [
      "[('Ivan', None), ('Svetlana', None)]\n"
     ]
    }
   ],
   "source": [
    "#9. Найти пользователей, не сделавших ни одного заказа.\n",
    "\n",
    "U = users.alias(\"U\")\n",
    "O = orders.alias(\"O\")\n",
    "\n",
    "j=outerjoin(U, O, U.c.user_id == O.c.user_id)\n",
    "\n",
    "s=select(U.c.user_name, O.c.order_id).group_by(U.c.user_id)\n",
    "s=s.having(O.c.order_id.is_(None))\n",
    "s=s.select_from(j)\n",
    "\n",
    "result=conn.execute(s).fetchall()\n",
    "print(result)"
   ]
  },
  {
   "cell_type": "code",
   "execution_count": 11,
   "metadata": {},
   "outputs": [
    {
     "name": "stdout",
     "output_type": "stream",
     "text": [
      "[('2 persons room', 41), ('Apartment in the greenest suburb of Antwerp', 40), ('Kamer in Luxueus Appartement te Antwerpen Wilrijk', 40), ('Comfortable stay close to Antwerp', 65), ('Charmante Privékamer in Antwerpen-Wilrijk', 40), ('Quiet room close to Antwerp', 28), ('1 persoonskamer', 41)]\n"
     ]
    }
   ],
   "source": [
    "#10.Распечатать названия и цены объектов в районе Hoogte с ценой ниже средней цены по району Hoogte.\n",
    "N = neighbourhoods.alias('N')\n",
    "L = listings.alias(\"L\")\n",
    "\n",
    "j=join(L, N, L.c. neigh_id == N.c. neigh_id)\n",
    "\n",
    "subq=select(func.avg(L.c.price)).where(N.c.neigh_name == 'Hoogte')\n",
    "subq=subq.select_from(j).scalar_subquery()\n",
    "\n",
    "s=select(L.c.listing_name, L.c.price).where(and_(N.c.neigh_name == 'Hoogte', L.c.price<subq))\n",
    "s=s.select_from(j)\n",
    "\n",
    "result=conn.execute(s).fetchall()\n",
    "print(result)"
   ]
  },
  {
   "cell_type": "code",
   "execution_count": 12,
   "metadata": {
    "scrolled": true
   },
   "outputs": [
    {
     "name": "stdout",
     "output_type": "stream",
     "text": [
      "[('2 persons room', 41), ('Apartment in the greenest suburb of Antwerp', 40), ('Kamer in Luxueus Appartement te Antwerpen Wilrijk', 40), ('Comfortable stay close to Antwerp', 65), ('Charmante Privékamer in Antwerpen-Wilrijk', 40), ('Quiet room close to Antwerp', 28), ('1 persoonskamer', 41)]\n"
     ]
    }
   ],
   "source": [
    "#Прямой запрос\n",
    "s=str('select listing_name, price from listings, neighbourhoods where listings.neigh_id=neighbourhoods.neigh_id and neigh_name=\"Hoogte\" and price<(select avg(price) from listings where neigh_name=\"Hoogte\" and listings.neigh_id=neighbourhoods.neigh_id)')\n",
    "result = conn.execute(s).fetchall()\n",
    "print(result)"
   ]
  },
  {
   "cell_type": "code",
   "execution_count": 14,
   "metadata": {},
   "outputs": [
    {
     "data": {
      "text/plain": [
       "[('Cozy Entire Apartment in Garden City Brasschaat', 'Jianli', 13, 'Donk', 70),\n",
       " ('Charming Entire Apartment Monthly- Garden City', 'Jianli', 13, 'Donk', 130),\n",
       " ('Apartment for 4 persons (MM1)', 'S.', 22, 'Hoboken - Zuidoost', 170),\n",
       " ('Apartment for 4 persons (MM1)', 'S.', 22, 'Hoboken - Zuidoost', 170),\n",
       " ('PlaceToBe', 'Said', 25, 'Lambrechtshoeken', 100),\n",
       " ('Cozy room outside of the center + free parking', 'Glenn', 25, 'Lambrechtshoeken', 50),\n",
       " ('Ekeren rustige ruime kamer met badkamer', 'Katrien', 26, 'Leugenberg', 35),\n",
       " ('Unieke woning in Lillo (Antwerpen)', 'Yves', 27, 'Lillo', 120),\n",
       " ('Een mooie B&B op een boogscheut  van Antwerpen', 'Clara', 29, 'Mariaburg', 95),\n",
       " ('Tempel', 'Kajan', 29, 'Mariaburg', 15),\n",
       " ('Appartement ligt op 5 min van het centrum', 'Ali', 31, 'Merksem - Heide', 76),\n",
       " ('Private room in a shared family apartment.', 'Wahid', 31, 'Merksem - Heide', 17),\n",
       " ('Bureau + slaapkamer (32m2) ; zeer dichtbij UZA', 'Julie', 33, 'Neerland', 80),\n",
       " ('Cosy Room near Centre and Sportpaleis', 'David', 37, 'Nieuwdreef', 22),\n",
       " ('Antwerp Apartment near Centre & EXPO', 'Nancy & Arthur', 41, 'Petroleum - Zuid', 54),\n",
       " ('Vakantiewoning Monnikenhoeve (#32)', 'Filip', 42, 'Polder', 525),\n",
       " ('landhuis met tuin Antwerpen voor 6 pers (3slk)', 'Karel', 42, 'Polder', 60),\n",
       " ('Renovated, spacious & cosy apartment in Antwerp', 'Stéphanie', 46, 'Tentoonstellingswijk', 68),\n",
       " ('Room in cosy and renovated apartment *Women only', 'Stéphanie', 46, 'Tentoonstellingswijk', 30),\n",
       " ('De Rotonde - Panoramic Apartment next to Antwerp Expo', 'Jean-Paul From BnbSupport', 46, 'Tentoonstellingswijk', 115),\n",
       " ('Kamer Adriaan', 'Els', 48, 'Tuinwijk', 30),\n",
       " ('Kamer Alexander', 'Els', 48, 'Tuinwijk', 30)]"
      ]
     },
     "execution_count": 14,
     "metadata": {},
     "output_type": "execute_result"
    }
   ],
   "source": [
    "#11.Распечатать название объекта, имя владельца, идентификатор района, название района и цену объекта, ограничившись только \n",
    "#объектами, находящимися в таких районах, в которых менее 4 объектов. Результат отсортировать по названию района.\n",
    "N = neighbourhoods.alias('N')\n",
    "L = listings.alias(\"L\")\n",
    "H = hosts.alias(\"H\")\n",
    "\n",
    "k = join(L, N, L.c.neigh_id == N.c.neigh_id)\n",
    "\n",
    "j = join(L, H, L.c.host_id == H.c.host_id)\n",
    "j = j.join(N, N.c.neigh_id == L.c.neigh_id) \n",
    "\n",
    "subq = select(N.c.neigh_id).group_by(N.c.neigh_id).having(func.count(L.c.listing_id)<4)\n",
    "subq = subq.select_from(k).scalar_subquery()\n",
    "\n",
    "s = select(L.c.listing_name, H.c.host_name, N.c.neigh_id, N.c.neigh_name, L.c.price).where(N.c.neigh_id.in_(subq))\n",
    "s = s.order_by(N.c.neigh_name)\n",
    "s = s.select_from(j)\n",
    "\n",
    "result=conn.execute(s).fetchall()\n",
    "result"
   ]
  },
  {
   "cell_type": "code",
   "execution_count": null,
   "metadata": {},
   "outputs": [],
   "source": []
  }
 ],
 "metadata": {
  "kernelspec": {
   "display_name": "Python 3",
   "language": "python",
   "name": "python3"
  },
  "language_info": {
   "codemirror_mode": {
    "name": "ipython",
    "version": 3
   },
   "file_extension": ".py",
   "mimetype": "text/x-python",
   "name": "python",
   "nbconvert_exporter": "python",
   "pygments_lexer": "ipython3",
   "version": "3.8.8"
  }
 },
 "nbformat": 4,
 "nbformat_minor": 2
}
