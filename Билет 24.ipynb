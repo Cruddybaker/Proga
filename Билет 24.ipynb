{
 "cells": [
  {
   "cell_type": "code",
   "execution_count": 5,
   "id": "7bdac345",
   "metadata": {},
   "outputs": [],
   "source": [
    "from sqlalchemy import MetaData, Table, create_engine, select, and_, or_, not_, cast\n",
    "from sqlalchemy import String, Numeric, Float, Integer\n",
    "from sqlalchemy.sql import func, alias, desc\n",
    "from pprint import pprint\n",
    "\n",
    "import pandas\n",
    "from matplotlib import pyplot\n",
    "\n",
    "engine = create_engine('sqlite:///Data/Chinook_Sqlite.sqlite')\n",
    "metadata = MetaData()\n",
    "metadata.reflect(bind=engine)\n",
    "conn=engine.connect()\n",
    "\n",
    "Album=Table(\"Album\", metadata, autoload=True, autoload_with=\"engine\")\n",
    "Artist=Table(\"Artist\", metadata, autoload=True, autoload_with=\"engine\")\n",
    "Customer=Table(\"Customer\", metadata, autoload=True, autoload_with=\"engine\")\n",
    "Employee=Table(\"Employee\", metadata, autoload=True, autoload_with=\"engine\")\n",
    "Track=Table(\"Track\", metadata, autoload=True, autoload_with=\"engine\")\n",
    "Genre=Table(\"Genre\", metadata, autoload=True, autoload_with=\"engine\")\n",
    "Invoice=Table(\"Invoice\", metadata, autoload=True, autoload_with=\"engine\")\n",
    "InvoiceLine=Table(\"InvoiceLine\", metadata, autoload=True, autoload_with=\"engine\")\n",
    "Playlist=Table(\"Playlist\", metadata, autoload=True, autoload_with=\"engine\")\n",
    "PlaylistTrack=Table(\"PlaylistTrack\", metadata, autoload=True, autoload_with=\"engine\")\n",
    "MediaType=Table(\"MediaType\", metadata, autoload=True, autoload_with=\"engine\")\n",
    "\n",
    "import pandas as pd\n",
    "df=pd.read_csv('./Data/imdb.csv')"
   ]
  },
  {
   "cell_type": "markdown",
   "id": "2c2ffa53",
   "metadata": {},
   "source": [
    "### 1 вопрос (20 баллов)\n",
    "\n",
    "Работа с файлами: чтение и запись, кодировка. Структура CSV файлов. Выгрузка в файл в CSV формате. Представление данных CSV-файла в табличном виде.\n",
    "\n",
    "CSV (comma-separated value) - это формат представления табличных данных (например, это могут быть данные из таблицы или данные из БД).\n",
    "\n",
    "В этом формате каждая строка файла - это строка таблицы. Несмотря на название формата, разделителем может быть не только запятая.\n",
    "\n",
    "В Python модуль csv.reader() используется для чтения файла csv. Он берет каждую строку файла и составляет список всех столбцов. Можно прочитать файл CSV с помощью pandas. Необходимо создать DataFrame, который представляет собой двумерную неоднородную табличную структуру данных и состоит из трех основных компонентов: данных, столбцов и строк.\n",
    "\n",
    "pandas.read_csv('название файла')\n",
    "\n",
    "Запись файлов на Python осуществляется с помощью модуля csv.writer()\n",
    "Для разделения строки на ячейки можно использовать функцию .split(',')\n",
    "\n",
    "Если данные в файле CSV не имеют первой строки с именами столбцов, то можно использовать необязательный параметр names для определения списка list имен столбцов. Можно использовать эту возможность, если нужно переопределить имена столбцов, указанных в первой строке файла. Нужно указать методу pandas.read_csv(), чтобы тот игнорировал существующие имена столбцов, используя необязательный именованный параметр header=0.\n",
    "\n",
    "Чтобы использовать один из столбцов структуры DataFrame в качестве индекса, необходимо задать значение для необязательного параметра index_col."
   ]
  },
  {
   "cell_type": "markdown",
   "id": "8f283d66",
   "metadata": {},
   "source": [
    "### 2 вопрос (20 баллов)\n",
    "\n",
    "С помощью библиотеки SQLAlchemy создайте объекты таблиц базы данных Chinook. В таблице MediaType базы данных Chinook содержатся данные о типах файлов (файл MPEG, AAC и т.д.). В таблице InvoiceLine содержатся данные о покупках. Напишите запрос, показывающий, сколько звуковых дорожек куплено в формате \"Purchased AAC audio file\" файл.\n"
   ]
  },
  {
   "cell_type": "code",
   "execution_count": 6,
   "id": "faee87cb",
   "metadata": {},
   "outputs": [
    {
     "name": "stdout",
     "output_type": "stream",
     "text": [
      "[(4,)]\n"
     ]
    }
   ],
   "source": [
    "s=select(func.count(InvoiceLine.c.TrackId))\n",
    "s=s.where(MediaType.c.MediaTypeId==Track.c.MediaTypeId)\n",
    "s=s.where(Track.c.TrackId==InvoiceLine.c.TrackId)\n",
    "s=s.where(MediaType.c.Name==\"Purchased AAC audio file\")\n",
    "result=conn.execute(s).fetchall()\n",
    "print(result)"
   ]
  },
  {
   "cell_type": "markdown",
   "id": "c4b22804",
   "metadata": {},
   "source": [
    "### 3 вопрос (20 баллов)\n",
    "\n",
    "Записи набора данных imdb.csv содержат информацию о фильмах. Атрибут Genre каждой записи содержит перечень жанров конкретного фильма. Создайте список всех режиссеров (атрибут Director) фильмов в жанре Music."
   ]
  },
  {
   "cell_type": "code",
   "execution_count": 7,
   "id": "91091a80",
   "metadata": {},
   "outputs": [
    {
     "data": {
      "text/plain": [
       "{'Aamir Khan',\n",
       " 'Adam Shankman',\n",
       " 'Akiva Schaffer',\n",
       " 'Anne Fletcher',\n",
       " 'Craig Brewer',\n",
       " 'Damien Chazelle',\n",
       " 'Elizabeth Banks',\n",
       " 'Gregory Jacobs',\n",
       " 'Jason Moore',\n",
       " 'John Carney',\n",
       " 'Jon M. Chu',\n",
       " 'Julie Taymor',\n",
       " 'Kirsten Sheridan',\n",
       " 'Max Joseph',\n",
       " 'Paolo Sorrentino',\n",
       " 'Phyllida Lloyd',\n",
       " 'R.J. Cutler',\n",
       " 'Tim Burton',\n",
       " 'Tom Hooper'}"
      ]
     },
     "execution_count": 7,
     "metadata": {},
     "output_type": "execute_result"
    }
   ],
   "source": [
    "director = df['Genre'].str.contains('Music')\n",
    "set(df[director]['Director'])"
   ]
  }
 ],
 "metadata": {
  "kernelspec": {
   "display_name": "Python 3",
   "language": "python",
   "name": "python3"
  },
  "language_info": {
   "codemirror_mode": {
    "name": "ipython",
    "version": 3
   },
   "file_extension": ".py",
   "mimetype": "text/x-python",
   "name": "python",
   "nbconvert_exporter": "python",
   "pygments_lexer": "ipython3",
   "version": "3.8.8"
  }
 },
 "nbformat": 4,
 "nbformat_minor": 5
}
