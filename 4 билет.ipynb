{
 "cells": [
  {
   "cell_type": "markdown",
   "id": "81e20df7",
   "metadata": {},
   "source": [
    "### ЭКЗАМЕНАЦИОННЫЙ БИЛЕТ № 4\n",
    "\n",
    "1 вопрос (20 баллов)\n",
    "Цикл while. Выражения break, continue, else.\n",
    "\n",
    "Цикл while («пока») выполняется, пока проверяемое условие истинно. Условие записывается до тела цикла и проверяется до выполнения кода внутри (тела) цикла\n",
    "\n",
    "Выражения break, continue, else позволяют менять поведение циклов по умолчанию"
   ]
  },
  {
   "cell_type": "code",
   "execution_count": 3,
   "id": "ce076654",
   "metadata": {},
   "outputs": [
    {
     "name": "stdout",
     "output_type": "stream",
     "text": [
      "В списке число элементов достигло 1\n",
      "В списке число элементов достигло 2\n",
      "В списке число элементов достигло 3\n",
      "В списке число элементов достигло 4\n",
      "В списке число элементов достигло 5\n",
      "В списке число элементов достигло 6\n",
      "В списке число элементов достигло 7\n",
      "В списке число элементов достигло 8\n",
      "В списке число элементов достигло 9\n",
      "В списке число элементов достигло 10\n",
      "Цикл закончен, результат: [-8, 5, 5, -3, -6, 0, 9, -1, -3, 8]\n"
     ]
    }
   ],
   "source": [
    "#Пример цикла while\n",
    "\n",
    "from random import randint\n",
    "a=[]\n",
    "while len(a)<10:\n",
    "    a.append(randint(-10,10))\n",
    "    print('В списке число элементов достигло', len(a))\n",
    "print('Цикл закончен, результат:', a) "
   ]
  },
  {
   "cell_type": "code",
   "execution_count": 4,
   "id": "679af6db",
   "metadata": {},
   "outputs": [
    {
     "name": "stdout",
     "output_type": "stream",
     "text": [
      "3\n",
      "4\n",
      "5\n"
     ]
    }
   ],
   "source": [
    "#Выражение break прерывает цикл и переносит компилляцию в конец цикла\n",
    "#Например, если число продуктов достигает 6, то цикл завершается\n",
    "b = 3\n",
    "while b <10:\n",
    "    if b == 6:\n",
    "        break\n",
    "    else:\n",
    "        print(b)\n",
    "        b += 1"
   ]
  },
  {
   "cell_type": "code",
   "execution_count": 5,
   "id": "565d867e",
   "metadata": {},
   "outputs": [
    {
     "name": "stdout",
     "output_type": "stream",
     "text": [
      "Текущее значение: 24\n",
      "Текущее значение: 23\n",
      "Текущее значение: 22\n",
      "Текущее значение: 21\n",
      "Текущее значение: 20\n",
      "Текущее значение: 19\n",
      "Текущее значение: 18\n",
      "Текущее значение: 17\n",
      "Текущее значение: 16\n",
      "Пропустили число: 15\n",
      "Текущее значение: 14\n",
      "Текущее значение: 13\n",
      "Текущее значение: 12\n",
      "Текущее значение: 11\n",
      "Текущее значение: 10\n"
     ]
    }
   ],
   "source": [
    "#Выражение continue возвращает компилляцию в начало цикла (цикл может дойти не до конца и начаться сначала)\n",
    "c = 25\n",
    "while c > 10:\n",
    "    c = c - 1\n",
    "    if c == 15:\n",
    "        print ('Пропустили число: 15')\n",
    "        continue\n",
    "    else:\n",
    "        print('Текущее значение:', c)"
   ]
  },
  {
   "cell_type": "code",
   "execution_count": 6,
   "id": "12783376",
   "metadata": {},
   "outputs": [
    {
     "name": "stdout",
     "output_type": "stream",
     "text": [
      "2\n",
      "3.0\n",
      "Конец\n",
      "2\n",
      "3.4\n",
      "5.779999999999999\n",
      "Конец\n"
     ]
    }
   ],
   "source": [
    "#Выражение else (иначе) выполняется в цикле while в том случае, если цикл завершил итерацию if/elif (если/а если),\n",
    "#но else не выполняется, если в цикле был выполнен break\n",
    "\n",
    "#Примеры работы else в цикле while с разными входными данными\n",
    "i = 2\n",
    "p=1.5\n",
    "while i < 9:\n",
    "    if i == 4.5:\n",
    "        break\n",
    "    else:\n",
    "        print(i)\n",
    "        i *= p\n",
    "else:\n",
    "    print(\"Конец\")\n",
    "    \n",
    "    \n",
    "i = 10\n",
    "p=1.5\n",
    "while i < 9:\n",
    "    if i == 4.5:\n",
    "        break\n",
    "    else:\n",
    "        print(i)\n",
    "        i *= p\n",
    "else:\n",
    "    print(\"Конец\")\n",
    "    \n",
    "    \n",
    "i = 2\n",
    "p=1.7\n",
    "while i < 9:\n",
    "    if i == 4.5:\n",
    "        break\n",
    "    else:\n",
    "        print(i)\n",
    "        i *= p\n",
    "else:\n",
    "    print(\"Конец\")"
   ]
  },
  {
   "cell_type": "markdown",
   "id": "442ecf1c",
   "metadata": {},
   "source": [
    "### 4-2. С помощью библиотеки SQLAlchemy создайте объекты таблиц базы данных Chinook. В таблице Employee содержится информация о сотрудниках, в таблице Customer - о клиентах. Информация о сотруднике, обслужившем конкретного клиента в поле SupportRepId. Составьте запрос, показывающий, сколько клиентов обслужил каждый сотрудник. Результат должен содержать имя, фамилию сотрудника, число клиентов.¶"
   ]
  },
  {
   "cell_type": "code",
   "execution_count": 7,
   "id": "b10dc7ce",
   "metadata": {},
   "outputs": [
    {
     "name": "stdout",
     "output_type": "stream",
     "text": [
      "dict_keys(['Album', 'Artist', 'Customer', 'Employee', 'Genre', 'Invoice', 'InvoiceLine', 'Track', 'MediaType', 'Playlist', 'PlaylistTrack'])\n"
     ]
    }
   ],
   "source": [
    "from sqlalchemy import MetaData, Table, create_engine, select, and_, or_, not_, cast\n",
    "from sqlalchemy import String, Numeric, Float, Integer\n",
    "from sqlalchemy.sql import func, alias, desc, exists\n",
    "\n",
    "import pandas as pd\n",
    "from matplotlib import pyplot\n",
    "\n",
    "engine = create_engine('sqlite:///Data/Chinook_Sqlite.sqlite')\n",
    "metadata = MetaData()\n",
    "metadata.reflect(bind=engine)\n",
    "conn=engine.connect()\n",
    "\n",
    "Album=Table(\"Album\", metadata, autoload=True, autoload_with=\"engine\")\n",
    "Artist=Table(\"Artist\", metadata, autoload=True, autoload_with=\"engine\")\n",
    "Customer=Table(\"Customer\", metadata, autoload=True, autoload_with=\"engine\")\n",
    "Employee=Table(\"Employee\", metadata, autoload=True, autoload_with=\"engine\")\n",
    "Track=Table(\"Track\", metadata, autoload=True, autoload_with=\"engine\")\n",
    "Genre=Table(\"Genre\", metadata, autoload=True, autoload_with=\"engine\")\n",
    "Invoice=Table(\"Invoice\", metadata, autoload=True, autoload_with=\"engine\")\n",
    "InvoiceLine=Table(\"InvoiceLine\", metadata, autoload=True, autoload_with=\"engine\")\n",
    "Playlist=Table(\"Playlist\", metadata, autoload=True, autoload_with=\"engine\")\n",
    "PlaylistTrack=Table(\"PlaylistTrack\", metadata, autoload=True, autoload_with=\"engine\")\n",
    "MediaType=Table(\"MediaType\",metadata, autoload=True, autoload_with=\"engine\")\n",
    "\n",
    "print(metadata.tables.keys())"
   ]
  },
  {
   "cell_type": "code",
   "execution_count": 8,
   "id": "5fd3f2b0",
   "metadata": {},
   "outputs": [
    {
     "name": "stdout",
     "output_type": "stream",
     "text": [
      "[('Jane', 'Peacock', 21), ('Margaret', 'Park', 20), ('Steve', 'Johnson', 18)]\n"
     ]
    }
   ],
   "source": [
    "s=select(Employee.c.FirstName, Employee.c.LastName, func.count(Customer.c.CustomerId))\n",
    "s=s.where(Employee.c.EmployeeId==Customer.c.SupportRepId)\n",
    "s=s.group_by(Employee.c.FirstName)\n",
    "result=conn.execute(s).fetchall()\n",
    "print(result)"
   ]
  },
  {
   "cell_type": "markdown",
   "id": "585cb86c",
   "metadata": {},
   "source": [
    "### 4-3. Записи набора данных imdb.csv содержат информацию о фильмах. Атрибут Genre каждой записи содержит перечень жанров конкретного фильма. Подсчитайте, сколько фильмов в жанре Family снято в 2011 году."
   ]
  },
  {
   "cell_type": "code",
   "execution_count": 10,
   "id": "bccae85c",
   "metadata": {},
   "outputs": [
    {
     "data": {
      "text/plain": [
       "3"
      ]
     },
     "execution_count": 10,
     "metadata": {},
     "output_type": "execute_result"
    }
   ],
   "source": [
    "df=pd.read_csv('./Data/imdb.csv')\n",
    "p = df[df['Year'].isin([2011])]\n",
    "len(p[p['Genre'].str.contains('Family')])"
   ]
  }
 ],
 "metadata": {
  "kernelspec": {
   "display_name": "Python 3",
   "language": "python",
   "name": "python3"
  },
  "language_info": {
   "codemirror_mode": {
    "name": "ipython",
    "version": 3
   },
   "file_extension": ".py",
   "mimetype": "text/x-python",
   "name": "python",
   "nbconvert_exporter": "python",
   "pygments_lexer": "ipython3",
   "version": "3.8.8"
  }
 },
 "nbformat": 4,
 "nbformat_minor": 5
}
