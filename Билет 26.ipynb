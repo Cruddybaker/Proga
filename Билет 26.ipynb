{
 "cells": [
  {
   "cell_type": "code",
   "execution_count": 3,
   "id": "cd4c3391",
   "metadata": {},
   "outputs": [],
   "source": [
    "from sqlalchemy import *\n",
    "from sqlalchemy.sql import *\n",
    "\n",
    "engine = create_engine('sqlite:///Data/Chinook_Sqlite.sqlite')\n",
    "metadata = MetaData()\n",
    "metadata.reflect(bind=engine)\n",
    "conn=engine.connect()\n",
    "\n",
    "InvoiceLine=Table(\"InvoiceLine\", metadata, autoload=True, autoload_with=\"engine\")\n",
    "MediaType=Table(\"MediaType\", metadata, autoload=True, autoload_with=\"engine\")\n",
    "Track=Table(\"Track\", metadata, autoload=True, autoload_with=\"engine\")\n",
    "Invoice=Table(\"Invoice\", metadata, autoload=True, autoload_with=\"engine\")\n",
    "Customer=Table(\"Customer\", metadata, autoload=True, autoload_with=\"engine\")\n",
    "\n",
    "import pandas as pd\n",
    "df=pd.read_csv('./Data/imdb.csv')"
   ]
  },
  {
   "cell_type": "markdown",
   "id": "0db1a27f",
   "metadata": {},
   "source": [
    "### Агрегирование и групповые функции языка SQL. Функции COUNT(), SUM(), AVG(), MAX(). MIN(). Влияние NULL-значений на результат действия функций COUNT и AVG.\n",
    "\n",
    "Общая запись агрегирующих функций:\n",
    "\n",
    "<Функция>([DISTINCT]<выражение>)\n",
    "\n",
    "В языке SQL используются следующие агрегирующие функции:\n",
    "\n",
    "SUM([DISTINCT] <выражение>)\n",
    "\n",
    "Выводит в итоговой таблице сумму значений для выражения по полям выборки. Выражение должно возвращать числовое значение.\n",
    "\n",
    "AVG([DISTINCT] <выражение>)\n",
    "\n",
    "Среднее значение для выражения. Выражение должно возвращать числовое значение.\n",
    "\n",
    "COUNT([DISTINCT] <выражение> |*)\n",
    "\n",
    "Подсчитывает число записей, в который выражение не имеет значение Null (поля имеют значение Null, когда никакое значение для них не задано). Выражение может возвращать произвольное значение.\n",
    "\n",
    "При используемом формате функции COUNT(*) возвращает общее количество записей в БД слоя.\n",
    "\n",
    "MAX( <выражение>)\n",
    "\n",
    "Возвращает максимальное значение выражения для выборки.\n",
    "\n",
    "MIN(<выражение>)\n",
    "\n",
    "Возвращает минимальное значение выражения из выборки.\n",
    "\n",
    "лияние NULL-значений в функции count\n",
    "\n",
    "Если аргумент функции COUNT является константой или столбцом без пустых значений, то функция возвращает количество строк, к которым применимо определенное условие или группирование.\n",
    "\n",
    "Если аргументом функции является столбец, содержащий пустое значение, то COUNTвернет число строк, не содержащих пустые значения, и к которым применимо определенное условие или группирование.\n",
    "\n",
    "Поведение функции COUNT(*)не зависит от пустых значений. Она возвратит общее количество строк в таблице.\n",
    "\n",
    "Влияние NULL-значений в функции avg\n",
    "\n",
    "Если некоторые элементы пусты, то есть их значения неизвестны или не существуют, то деление на количество всех элементов множества приведет к неправильному результату.\n",
    "\n",
    "Функция AVG вычисляет среднее значение всех известных значений множества элементов, то есть эта функция подсчитывает сумму известных значений и делит ее на количество этих значений, а не на общее количество значений, среди которых могут быть NULL-значения. Если столбец состоит только из пустых значений, то функция AVGтакже возвратит NULL.\n"
   ]
  },
  {
   "cell_type": "markdown",
   "id": "55e8087a",
   "metadata": {},
   "source": [
    "### С помощью библиотеки SQLAlchemy создайте объекты таблиц базы данных Chinook. В таблице MediaType базы данных Chinook содержатся данные о типах файлов (файл MPEG, AAC и т.д.). В таблице InvoiceLine содержатся данные о покупках. Напишите запрос, показывающий, сколько звуковых дорожек куплено в формате \"Protected MPEG-4 video file\" файл"
   ]
  },
  {
   "cell_type": "code",
   "execution_count": 4,
   "id": "408acbdb",
   "metadata": {},
   "outputs": [
    {
     "data": {
      "text/plain": [
       "[(111,)]"
      ]
     },
     "execution_count": 4,
     "metadata": {},
     "output_type": "execute_result"
    }
   ],
   "source": [
    "MT = MediaType.alias('MT')\n",
    "IL = InvoiceLine.alias('IL')\n",
    "T = Track.alias('T')\n",
    "s = select(func.count(IL.c.UnitPrice)).where(and_(\n",
    "     MT.c.Name == 'Protected MPEG-4 video file', \n",
    "     T.c.TrackId == IL.c.TrackId, \n",
    "     MT.c.MediaTypeId == T.c.MediaTypeId))\n",
    "\n",
    "result=conn.execute(s).fetchall()\n",
    "result"
   ]
  },
  {
   "cell_type": "markdown",
   "id": "110e0f4d",
   "metadata": {},
   "source": [
    "### Записи набора данных imdb.csv содержат информацию о фильмах. Атрибут Genre каждой записи содержит перечень жанров конкретного фильма. Постройте столбчатую диаграмму числа фильмов в жанрах Animation, Family, Biography."
   ]
  },
  {
   "cell_type": "code",
   "execution_count": 7,
   "id": "cd8777d0",
   "metadata": {},
   "outputs": [
    {
     "data": {
      "image/png": "[encoded data removed]",
      "text/plain": [
       "<Figure size 288x432 with 1 Axes>"
      ]
     },
     "metadata": {
      "needs_background": "light"
     },
     "output_type": "display_data"
    }
   ],
   "source": [
    "import matplotlib.pyplot as plt\n",
    "%matplotlib inline\n",
    "genres = ['Animation', 'Family', 'Fantasy']\n",
    "data = {i:len(df[df['Genre'].str.contains(i)]) for i in genres}\n",
    "\n",
    "fig, ax = plt.subplots(figsize = (4, 6))\n",
    "ax.bar(data.keys(), data.values())\n",
    "ax.grid()\n"
   ]
  }
 ],
 "metadata": {
  "kernelspec": {
   "display_name": "Python 3",
   "language": "python",
   "name": "python3"
  },
  "language_info": {
   "codemirror_mode": {
    "name": "ipython",
    "version": 3
   },
   "file_extension": ".py",
   "mimetype": "text/x-python",
   "name": "python",
   "nbconvert_exporter": "python",
   "pygments_lexer": "ipython3",
   "version": "3.8.8"
  }
 },
 "nbformat": 4,
 "nbformat_minor": 5
}
