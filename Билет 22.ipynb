{
 "cells": [
  {
   "cell_type": "code",
   "execution_count": 1,
   "id": "e48ba002",
   "metadata": {},
   "outputs": [],
   "source": [
    "from sqlalchemy import MetaData, Table, create_engine, select, and_, or_, not_, cast\n",
    "from sqlalchemy import String, Numeric, Float, Integer\n",
    "from sqlalchemy.sql import func, alias, desc\n",
    "from pprint import pprint\n",
    "\n",
    "import pandas\n",
    "from matplotlib import pyplot\n",
    "\n",
    "engine = create_engine('sqlite:///Data/Chinook_Sqlite.sqlite')\n",
    "metadata = MetaData()\n",
    "metadata.reflect(bind=engine)\n",
    "conn=engine.connect()\n",
    "\n",
    "Album=Table(\"Album\", metadata, autoload=True, autoload_with=\"engine\")\n",
    "Artist=Table(\"Artist\", metadata, autoload=True, autoload_with=\"engine\")\n",
    "Customer=Table(\"Customer\", metadata, autoload=True, autoload_with=\"engine\")\n",
    "Employee=Table(\"Employee\", metadata, autoload=True, autoload_with=\"engine\")\n",
    "Track=Table(\"Track\", metadata, autoload=True, autoload_with=\"engine\")\n",
    "Genre=Table(\"Genre\", metadata, autoload=True, autoload_with=\"engine\")\n",
    "Invoice=Table(\"Invoice\", metadata, autoload=True, autoload_with=\"engine\")\n",
    "InvoiceLine=Table(\"InvoiceLine\", metadata, autoload=True, autoload_with=\"engine\")\n",
    "Playlist=Table(\"Playlist\", metadata, autoload=True, autoload_with=\"engine\")\n",
    "PlaylistTrack=Table(\"PlaylistTrack\", metadata, autoload=True, autoload_with=\"engine\")\n",
    "\n",
    "import pandas as pd\n",
    "df=pd.read_csv('./Data/imdb.csv')"
   ]
  },
  {
   "cell_type": "markdown",
   "id": "72b75c48",
   "metadata": {},
   "source": [
    "### 1 вопрос (20 баллов)\n",
    "\n",
    "Методы работы с файлами XML. Библиотека ElementTree. Парсинг XML-файлов.\n",
    "\n",
    "Python содержит встроенные XML инструменты для парсинга, к которым вы можете получить доступ при помощи модуля xml. \n",
    "\n",
    "ElementTree является подмодулем xml\n",
    "\n",
    "Структура XML документа подобна дереву. Единственным корнем является collection. Корень содержит все другие элементы, такие, как genre и movie - их называют потомками или подчиненными элементами.\n",
    "\n",
    "Обратите внимание, что элементы-потомки также могут иметь своих потомков. Элементы XML-дерева могут содержать атрибуты, например, элемент movie содержит атрибут title.\n",
    "\n",
    "Для начала, импортируем библиотеку ElemntTree. Обычной практикой является присвоение ей псевдонима ET.\n",
    "\n",
    "import xml.etree.ElementTree as ET\n",
    "    \n",
    "Прочтение файла:\n",
    "    \n",
    "tree = ET.parse('название файла')\n",
    "root = tree.getroot()\n",
    "    \n",
    "Так создается дерево и его корень. У каждого элемента дерева, включая корень, имеется тег и могут быть атрибуты. Корень называется collection. У корня нет атрибутов."
   ]
  },
  {
   "cell_type": "markdown",
   "id": "8a161bea",
   "metadata": {},
   "source": [
    "### 2 вопрос (20 баллов)\n",
    "\n",
    "С помощью библиотеки SQLAlchemy создайте объекты таблиц базы данных Chinook. Создайте запрос, который находит имена, фамилии, город клиентов (Customer), фамилии которых встречаются среди фамилий работников (Employee)."
   ]
  },
  {
   "cell_type": "code",
   "execution_count": 2,
   "id": "0d61c1a3",
   "metadata": {},
   "outputs": [
    {
     "name": "stdout",
     "output_type": "stream",
     "text": [
      "[('Aaron Mitchell', 'Winnipeg')]\n"
     ]
    }
   ],
   "source": [
    "subq=select(Employee.c.LastName).scalar_subquery()\n",
    "\n",
    "s=select(Customer.c.FirstName+' '+Customer.c.LastName, Customer.c.City)\n",
    "s=s.where(Customer.c.LastName.in_(subq))\n",
    "result=conn.execute(s).fetchall()\n",
    "print(result)"
   ]
  },
  {
   "cell_type": "markdown",
   "id": "b7a99b16",
   "metadata": {},
   "source": [
    "### 3 вопрос (20 баллов)\n",
    "\n",
    "Записи набора данных imdb.csv содержат информацию о фильмах. Атрибут Genres каждой записи содержит перечень жанров конкретного фильма. Атрибут Runtime (Minutes) содержит длительность фильма. Подсчитайте общую продолжительность фильмов в жанре Drama.\n"
   ]
  },
  {
   "cell_type": "code",
   "execution_count": 3,
   "id": "f7e45eea",
   "metadata": {},
   "outputs": [
    {
     "data": {
      "text/plain": [
       "59834"
      ]
     },
     "execution_count": 3,
     "metadata": {},
     "output_type": "execute_result"
    }
   ],
   "source": [
    "lasting = df['Genre'].str.contains('Drama')\n",
    "df[lasting]['Runtime (Minutes)'].sum()"
   ]
  }
 ],
 "metadata": {
  "kernelspec": {
   "display_name": "Python 3",
   "language": "python",
   "name": "python3"
  },
  "language_info": {
   "codemirror_mode": {
    "name": "ipython",
    "version": 3
   },
   "file_extension": ".py",
   "mimetype": "text/x-python",
   "name": "python",
   "nbconvert_exporter": "python",
   "pygments_lexer": "ipython3",
   "version": "3.8.8"
  }
 },
 "nbformat": 4,
 "nbformat_minor": 5
}
