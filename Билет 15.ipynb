{
 "cells": [
  {
   "cell_type": "code",
   "execution_count": 1,
   "id": "742bb98b",
   "metadata": {},
   "outputs": [
    {
     "name": "stdout",
     "output_type": "stream",
     "text": [
      "dict_keys(['Album', 'Artist', 'Customer', 'Employee', 'Genre', 'Invoice', 'InvoiceLine', 'Track', 'MediaType', 'Playlist', 'PlaylistTrack'])\n"
     ]
    }
   ],
   "source": [
    "from sqlalchemy import *\n",
    "from sqlalchemy.sql import *\n",
    "\n",
    "import pandas\n",
    "from matplotlib import pyplot as plt\n",
    "\n",
    "engine = create_engine('sqlite:///Data/Chinook_Sqlite.sqlite')\n",
    "metadata = MetaData()\n",
    "metadata.reflect(bind=engine)\n",
    "conn=engine.connect()\n",
    "\n",
    "Album=Table(\"Album\", metadata, autoload=True, autoload_with=\"engine\")\n",
    "MediaType=Table(\"MediaType\", metadata, autoload=True, autoload_with=\"engine\")\n",
    "Artist=Table(\"Artist\", metadata, autoload=True, autoload_with=\"engine\")\n",
    "Customer=Table(\"Customer\", metadata, autoload=True, autoload_with=\"engine\")\n",
    "Employee=Table(\"Employee\", metadata, autoload=True, autoload_with=\"engine\")\n",
    "Track=Table(\"Track\", metadata, autoload=True, autoload_with=\"engine\")\n",
    "Genre=Table(\"Genre\", metadata, autoload=True, autoload_with=\"engine\")\n",
    "Invoice=Table(\"Invoice\", metadata, autoload=True, autoload_with=\"engine\")\n",
    "InvoiceLine=Table(\"InvoiceLine\", metadata, autoload=True, autoload_with=\"engine\")\n",
    "Playlist=Table(\"Playlist\", metadata, autoload=True, autoload_with=\"engine\")\n",
    "PlaylistTrack=Table(\"PlaylistTrack\", metadata, autoload=True, autoload_with=\"engine\")\n",
    "A = Album.alias('A')\n",
    "M = MediaType.alias('M')\n",
    "Ar = Artist.alias('Ar')\n",
    "C = Customer.alias('C')\n",
    "E = Employee.alias('E')\n",
    "T = Track.alias('T')\n",
    "G = Genre.alias('G')\n",
    "I = Invoice.alias('I')\n",
    "IL = InvoiceLine.alias('IL')\n",
    "P = Playlist.alias('P')\n",
    "PT = PlaylistTrack.alias('PT')\n",
    "\n",
    "print(metadata.tables.keys())\n",
    "\n",
    "import pandas as pd\n",
    "df=pd.read_csv('./Data/imdb.csv')"
   ]
  },
  {
   "cell_type": "markdown",
   "id": "b093fd56",
   "metadata": {},
   "source": [
    "#### №1. Методы работы со строками. Индексация строк. Срезы строк. Поиск подстроки в строке. Преобразование строки в список.\n",
    "\n",
    "**Строки в Python** - упорядоченные последовательности символов, используемые для хранения и представления текстовой информации, поэтому с помощью строк можно работать со всем, что может быть представлено в текстовой форме.\n",
    "Строки создаются путём введения необходимых символов в кавычки ('' или \"\"), преобразованием из другого типа данных с помощью str() или методом .join:   \n",
    "\n",
    "\"\".join([список для преобразования])\n",
    "\n",
    "\n",
    "Некоторые служебные символы:  \n",
    "\\n - новая строка  \n",
    "\\t - табуляция\n",
    "\n",
    "**Методы работы со строками**  \n",
    "S.index(str, [start],[end]) - поиск подстроки в строке. Возвращает номер первого вхождения или ValueError  \n",
    "S.split(символ) - Разбиение строки по разделителю (преобразование в список)  \n",
    "S.isalpha() - Состоит ли строка из букв  \n",
    "S.isdigit() - Состоит ли строка из цифр  \n",
    "S.upper() - Преобразование строки к верхнему регистру  \n",
    "S.lower() - Преобразование строки к нижнему регистру  \n",
    "S.join(список) - Сборка строки из списка с разделителем S  \n",
    "S.strip([chars]) - Удаление пробельных символов в начале и в конце строки  \n",
    "S.startswith(str) - Начинается ли строка S с шаблона str  \n",
    "S.endswith(str) - Заканчивается ли строка S шаблоном str  \n",
    "S.replace(шаблон, замена[, maxcount]) - Замена шаблона на замену. maxcount ограничивает количество замен  \n",
    "\n",
    "**Срезы строк**\n",
    "S[i] - Обращение по индексу i. Отрицательные значения делают отсчёт с конца  \n",
    "S[i:j:step] - Извлечение среза, i - начальный индекс, j - конечный индекс, step - шаг среза  \n",
    "\n",
    "**Поиск подстрок**  \n",
    "str in S - True, если в S имеется подстрока str  \n",
    "S.startswith(str) - Начинается ли строка S с шаблона str  \n",
    "S.endswith(str) - Заканчивается ли строка S шаблоном str \n",
    "S.find(str, [start],[end]) - поиск подстроки в строке. Возвращает номер первого вхождения или -1  \n",
    "S.rfind(str, [start],[end]) - поиск подстроки в строке. Возвращает номер последнего вхождения или -1  "
   ]
  },
  {
   "cell_type": "markdown",
   "id": "8765bab8",
   "metadata": {},
   "source": [
    "#### №2. С помощью библиотеки SQLAlchemy создайте объекты таблиц базы данных Chinook. В таблице MediaType базы данных Chinook содержатся данные о типах файлов (файл MPEG, AAC и т.д.). В таблице InvoiceLine содержатся данные о покупках. Напишите запрос, показывающий, сколько звуковых дорожек куплено в формате \"AAC audio file\" файл."
   ]
  },
  {
   "cell_type": "code",
   "execution_count": 2,
   "id": "497b6823",
   "metadata": {},
   "outputs": [
    {
     "data": {
      "text/plain": [
       "[(3, 'AAC audio file')]"
      ]
     },
     "execution_count": 2,
     "metadata": {},
     "output_type": "execute_result"
    }
   ],
   "source": [
    "s = select(func.count(IL.c.TrackId), M.c.Name).where(and_(\n",
    "    T.c.TrackId == IL.c.TrackId, \n",
    "    T.c.MediaTypeId == M.c.MediaTypeId,\n",
    "    M.c.Name == 'AAC audio file'))\n",
    "result = conn.execute(s).fetchall()\n",
    "result"
   ]
  },
  {
   "cell_type": "markdown",
   "id": "d203f7b7",
   "metadata": {},
   "source": [
    "#### №3. Записи набора данных imdb.csv содержат информацию о фильмах. Атрибут Genre каждой записи содержит перечень жанров конкретного фильма. Подсчитатйте число фильмов в жанрах Drama и Comedy."
   ]
  },
  {
   "cell_type": "code",
   "execution_count": 3,
   "id": "a10c4109",
   "metadata": {},
   "outputs": [
    {
     "name": "stdout",
     "output_type": "stream",
     "text": [
      "Фильмы в жанре Drama: 513\n",
      "Фильмы в жанре Comedy: 279\n"
     ]
    }
   ],
   "source": [
    "a = df['Genre'].str.contains('Drama')\n",
    "b = df['Genre'].str.contains('Comedy')\n",
    "print(f'Фильмы в жанре Drama: {len(df[a])}\\nФильмы в жанре Comedy: {len(df[b])}')"
   ]
  }
 ],
 "metadata": {
  "kernelspec": {
   "display_name": "Python 3",
   "language": "python",
   "name": "python3"
  },
  "language_info": {
   "codemirror_mode": {
    "name": "ipython",
    "version": 3
   },
   "file_extension": ".py",
   "mimetype": "text/x-python",
   "name": "python",
   "nbconvert_exporter": "python",
   "pygments_lexer": "ipython3",
   "version": "3.8.8"
  }
 },
 "nbformat": 4,
 "nbformat_minor": 5
}
